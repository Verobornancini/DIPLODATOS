{
 "cells": [
  {
   "cell_type": "markdown",
   "metadata": {},
   "source": [
    "<center>\n",
    "<h4>Universidad Nacional de Córdoba - Facultad de Matemática, Astronomía, Física y Computación</h4>\n",
    "<h3>Diplomatura en Ciencia de Datos, Aprendizaje Automático y sus Aplicaciones</h3>\n",
    "</center>"
   ]
  },
  {
   "cell_type": "markdown",
   "metadata": {},
   "source": [
    "<h1> Aprendizaje Supervisado -> Grupo 5 Cohorte 2</h1>\n",
    "\n",
    "Patricia Loto\n",
    "\n",
    "Sandra Monica Olariaga\n",
    "\n",
    "Veronica Bornancini\n",
    "\n",
    "Fernandez María Soledad   \n"
   ]
  },
  {
   "cell_type": "markdown",
   "metadata": {},
   "source": [
    "# Diplodatos Kaggle Competition"
   ]
  },
  {
   "cell_type": "markdown",
   "metadata": {},
   "source": [
    "We present this peace of code to create the baseline for the competition, and as an example of how to deal with these kind of problems. The main goals are that you:\n",
    "\n",
    "1. Learn\n",
    "2. Try different models and see which one fits the best the given data\n",
    "3. Get a higher score than the given one in the current baseline example\n",
    "4. Try to get the highest score in the class :)"
   ]
  },
  {
   "cell_type": "code",
   "execution_count": 1,
   "metadata": {},
   "outputs": [],
   "source": [
    "# Importamos las librerías necesarias\n",
    "import os\n",
    "import math\n",
    "import numpy as np\n",
    "import pandas as pd\n",
    "import matplotlib.pyplot as plt\n",
    "import scipy.stats as stats \n",
    "import seaborn as sns \n",
    "import warnings\n",
    "\n",
    "from sklearn.model_selection import train_test_split \n",
    "from sklearn.ensemble import RandomForestClassifier\n",
    "from IPython.display import display_html\n",
    "from sklearn.tree import DecisionTreeClassifier as DT\n",
    "from sklearn.model_selection import GridSearchCV\n",
    "from sklearn.model_selection import RandomizedSearchCV\n",
    "from sklearn.metrics import accuracy_score\n",
    "from sklearn.feature_extraction.text import TfidfVectorizer\n",
    "from sklearn.naive_bayes import MultinomialNB\n",
    "from sklearn.pipeline import make_pipeline\n",
    "from sklearn.metrics import mean_squared_error"
   ]
  },
  {
   "cell_type": "code",
   "execution_count": 2,
   "metadata": {},
   "outputs": [],
   "source": [
    "# Leemos el dataset original\n",
    "original_df = pd.read_csv('../data/train.csv')"
   ]
  },
  {
   "cell_type": "markdown",
   "metadata": {},
   "source": [
    "# 1. Learn"
   ]
  },
  {
   "cell_type": "markdown",
   "metadata": {},
   "source": [
    "## 1.1 Verificamos columnas con sus datos"
   ]
  },
  {
   "cell_type": "code",
   "execution_count": 3,
   "metadata": {},
   "outputs": [
    {
     "data": {
      "text/plain": [
       "Index(['TripType', 'VisitNumber', 'Weekday', 'Upc', 'ScanCount',\n",
       "       'DepartmentDescription', 'FinelineNumber'],\n",
       "      dtype='object')"
      ]
     },
     "execution_count": 3,
     "metadata": {},
     "output_type": "execute_result"
    }
   ],
   "source": [
    "# 1) Averiguamos el nombre de cada variable presente en el dataset\n",
    "original_df.columns"
   ]
  },
  {
   "cell_type": "code",
   "execution_count": 4,
   "metadata": {},
   "outputs": [
    {
     "data": {
      "text/plain": [
       "(453411, 7)"
      ]
     },
     "execution_count": 4,
     "metadata": {},
     "output_type": "execute_result"
    }
   ],
   "source": [
    "original_df.shape"
   ]
  },
  {
   "cell_type": "code",
   "execution_count": 5,
   "metadata": {},
   "outputs": [
    {
     "data": {
      "text/html": [
       "<div>\n",
       "<style scoped>\n",
       "    .dataframe tbody tr th:only-of-type {\n",
       "        vertical-align: middle;\n",
       "    }\n",
       "\n",
       "    .dataframe tbody tr th {\n",
       "        vertical-align: top;\n",
       "    }\n",
       "\n",
       "    .dataframe thead th {\n",
       "        text-align: right;\n",
       "    }\n",
       "</style>\n",
       "<table border=\"1\" class=\"dataframe\">\n",
       "  <thead>\n",
       "    <tr style=\"text-align: right;\">\n",
       "      <th></th>\n",
       "      <th>TripType</th>\n",
       "      <th>VisitNumber</th>\n",
       "      <th>Weekday</th>\n",
       "      <th>Upc</th>\n",
       "      <th>ScanCount</th>\n",
       "      <th>DepartmentDescription</th>\n",
       "      <th>FinelineNumber</th>\n",
       "    </tr>\n",
       "  </thead>\n",
       "  <tbody>\n",
       "    <tr>\n",
       "      <th>0</th>\n",
       "      <td>999</td>\n",
       "      <td>5</td>\n",
       "      <td>Friday</td>\n",
       "      <td>6.811315e+10</td>\n",
       "      <td>-1</td>\n",
       "      <td>FINANCIAL SERVICES</td>\n",
       "      <td>1000.0</td>\n",
       "    </tr>\n",
       "    <tr>\n",
       "      <th>1</th>\n",
       "      <td>8</td>\n",
       "      <td>9</td>\n",
       "      <td>Friday</td>\n",
       "      <td>1.070081e+09</td>\n",
       "      <td>1</td>\n",
       "      <td>IMPULSE MERCHANDISE</td>\n",
       "      <td>115.0</td>\n",
       "    </tr>\n",
       "    <tr>\n",
       "      <th>2</th>\n",
       "      <td>8</td>\n",
       "      <td>9</td>\n",
       "      <td>Friday</td>\n",
       "      <td>3.107000e+03</td>\n",
       "      <td>1</td>\n",
       "      <td>PRODUCE</td>\n",
       "      <td>103.0</td>\n",
       "    </tr>\n",
       "    <tr>\n",
       "      <th>3</th>\n",
       "      <td>8</td>\n",
       "      <td>9</td>\n",
       "      <td>Friday</td>\n",
       "      <td>4.011000e+03</td>\n",
       "      <td>1</td>\n",
       "      <td>PRODUCE</td>\n",
       "      <td>5501.0</td>\n",
       "    </tr>\n",
       "    <tr>\n",
       "      <th>4</th>\n",
       "      <td>8</td>\n",
       "      <td>10</td>\n",
       "      <td>Friday</td>\n",
       "      <td>6.414410e+09</td>\n",
       "      <td>1</td>\n",
       "      <td>DSD GROCERY</td>\n",
       "      <td>2008.0</td>\n",
       "    </tr>\n",
       "  </tbody>\n",
       "</table>\n",
       "</div>"
      ],
      "text/plain": [
       "   TripType  VisitNumber Weekday           Upc  ScanCount  \\\n",
       "0       999            5  Friday  6.811315e+10         -1   \n",
       "1         8            9  Friday  1.070081e+09          1   \n",
       "2         8            9  Friday  3.107000e+03          1   \n",
       "3         8            9  Friday  4.011000e+03          1   \n",
       "4         8           10  Friday  6.414410e+09          1   \n",
       "\n",
       "  DepartmentDescription  FinelineNumber  \n",
       "0    FINANCIAL SERVICES          1000.0  \n",
       "1   IMPULSE MERCHANDISE           115.0  \n",
       "2               PRODUCE           103.0  \n",
       "3               PRODUCE          5501.0  \n",
       "4           DSD GROCERY          2008.0  "
      ]
     },
     "execution_count": 5,
     "metadata": {},
     "output_type": "execute_result"
    }
   ],
   "source": [
    "# 2) Inspeccionamos las primeras filas del dataset\n",
    "original_df[:5]"
   ]
  },
  {
   "cell_type": "markdown",
   "metadata": {},
   "source": [
    "**Observaciones:** Contamos con 453.411 registros y 7 variables en nuestra base de datos;\n",
    "* **TripType:** Es nuestra variable objetivo. Es una identificación categórica (id) que representa el tipo de viaje de compras que realizó el clienteEsta variable no estará presente en el conjunto de test.\n",
    "* **VisitNumber:** Número de identificación del comprador o visitante.\n",
    "* **Weekday:** Día de la semana en que se hizo la compra.\n",
    "* **Upc:** Codigo de identifiación del producto, hace referencia al código de barras.\n",
    "* **ScanCount:** Cantidad de unidades de ese item que el cliente compró. El valor negativo, indica que el item se devolvió\n",
    "* **DepartmentDescription:** Es una descripción de alto nivel del departamento al que pertenece el artículo.\n",
    "* **FinelineNumber:** Hace referencia a una categoría más refinada para cada uno de los productos."
   ]
  },
  {
   "cell_type": "code",
   "execution_count": 6,
   "metadata": {},
   "outputs": [
    {
     "data": {
      "text/plain": [
       "TripType                   int64\n",
       "VisitNumber                int64\n",
       "Weekday                   object\n",
       "Upc                      float64\n",
       "ScanCount                  int64\n",
       "DepartmentDescription     object\n",
       "FinelineNumber           float64\n",
       "dtype: object"
      ]
     },
     "execution_count": 6,
     "metadata": {},
     "output_type": "execute_result"
    }
   ],
   "source": [
    "# 3) Consultamos el tipo de dato de cada variable\n",
    "original_df.dtypes"
   ]
  },
  {
   "cell_type": "code",
   "execution_count": 7,
   "metadata": {},
   "outputs": [
    {
     "data": {
      "text/html": [
       "<div>\n",
       "<style scoped>\n",
       "    .dataframe tbody tr th:only-of-type {\n",
       "        vertical-align: middle;\n",
       "    }\n",
       "\n",
       "    .dataframe tbody tr th {\n",
       "        vertical-align: top;\n",
       "    }\n",
       "\n",
       "    .dataframe thead th {\n",
       "        text-align: right;\n",
       "    }\n",
       "</style>\n",
       "<table border=\"1\" class=\"dataframe\">\n",
       "  <thead>\n",
       "    <tr style=\"text-align: right;\">\n",
       "      <th></th>\n",
       "      <th>TripType</th>\n",
       "      <th>VisitNumber</th>\n",
       "      <th>Upc</th>\n",
       "      <th>ScanCount</th>\n",
       "      <th>FinelineNumber</th>\n",
       "    </tr>\n",
       "  </thead>\n",
       "  <tbody>\n",
       "    <tr>\n",
       "      <th>count</th>\n",
       "      <td>453411.0</td>\n",
       "      <td>453411.0</td>\n",
       "      <td>4.505590e+05</td>\n",
       "      <td>453411.0</td>\n",
       "      <td>450559.0</td>\n",
       "    </tr>\n",
       "    <tr>\n",
       "      <th>mean</th>\n",
       "      <td>58.0</td>\n",
       "      <td>95910.0</td>\n",
       "      <td>3.075243e+10</td>\n",
       "      <td>1.0</td>\n",
       "      <td>3727.0</td>\n",
       "    </tr>\n",
       "    <tr>\n",
       "      <th>std</th>\n",
       "      <td>156.0</td>\n",
       "      <td>55400.0</td>\n",
       "      <td>9.163940e+10</td>\n",
       "      <td>1.0</td>\n",
       "      <td>2780.0</td>\n",
       "    </tr>\n",
       "    <tr>\n",
       "      <th>min</th>\n",
       "      <td>3.0</td>\n",
       "      <td>5.0</td>\n",
       "      <td>8.340000e+02</td>\n",
       "      <td>-10.0</td>\n",
       "      <td>0.0</td>\n",
       "    </tr>\n",
       "    <tr>\n",
       "      <th>25%</th>\n",
       "      <td>27.0</td>\n",
       "      <td>49390.0</td>\n",
       "      <td>3.400004e+09</td>\n",
       "      <td>1.0</td>\n",
       "      <td>1404.0</td>\n",
       "    </tr>\n",
       "    <tr>\n",
       "      <th>50%</th>\n",
       "      <td>39.0</td>\n",
       "      <td>96781.0</td>\n",
       "      <td>7.056082e+09</td>\n",
       "      <td>1.0</td>\n",
       "      <td>3352.0</td>\n",
       "    </tr>\n",
       "    <tr>\n",
       "      <th>75%</th>\n",
       "      <td>40.0</td>\n",
       "      <td>143930.0</td>\n",
       "      <td>3.013201e+10</td>\n",
       "      <td>1.0</td>\n",
       "      <td>5501.0</td>\n",
       "    </tr>\n",
       "    <tr>\n",
       "      <th>max</th>\n",
       "      <td>999.0</td>\n",
       "      <td>191347.0</td>\n",
       "      <td>9.789707e+11</td>\n",
       "      <td>71.0</td>\n",
       "      <td>9998.0</td>\n",
       "    </tr>\n",
       "  </tbody>\n",
       "</table>\n",
       "</div>"
      ],
      "text/plain": [
       "       TripType  VisitNumber           Upc  ScanCount  FinelineNumber\n",
       "count  453411.0     453411.0  4.505590e+05   453411.0        450559.0\n",
       "mean       58.0      95910.0  3.075243e+10        1.0          3727.0\n",
       "std       156.0      55400.0  9.163940e+10        1.0          2780.0\n",
       "min         3.0          5.0  8.340000e+02      -10.0             0.0\n",
       "25%        27.0      49390.0  3.400004e+09        1.0          1404.0\n",
       "50%        39.0      96781.0  7.056082e+09        1.0          3352.0\n",
       "75%        40.0     143930.0  3.013201e+10        1.0          5501.0\n",
       "max       999.0     191347.0  9.789707e+11       71.0          9998.0"
      ]
     },
     "execution_count": 7,
     "metadata": {},
     "output_type": "execute_result"
    }
   ],
   "source": [
    "# 4) Pedimos una descripción de los datos. Por defecto se muestra la información de las variables numéricas\n",
    "original_df.describe().round()"
   ]
  },
  {
   "cell_type": "code",
   "execution_count": 8,
   "metadata": {},
   "outputs": [
    {
     "data": {
      "text/html": [
       "<div>\n",
       "<style scoped>\n",
       "    .dataframe tbody tr th:only-of-type {\n",
       "        vertical-align: middle;\n",
       "    }\n",
       "\n",
       "    .dataframe tbody tr th {\n",
       "        vertical-align: top;\n",
       "    }\n",
       "\n",
       "    .dataframe thead th {\n",
       "        text-align: right;\n",
       "    }\n",
       "</style>\n",
       "<table border=\"1\" class=\"dataframe\">\n",
       "  <thead>\n",
       "    <tr style=\"text-align: right;\">\n",
       "      <th></th>\n",
       "      <th>Weekday</th>\n",
       "      <th>DepartmentDescription</th>\n",
       "    </tr>\n",
       "  </thead>\n",
       "  <tbody>\n",
       "    <tr>\n",
       "      <th>count</th>\n",
       "      <td>453411</td>\n",
       "      <td>452439</td>\n",
       "    </tr>\n",
       "    <tr>\n",
       "      <th>unique</th>\n",
       "      <td>7</td>\n",
       "      <td>68</td>\n",
       "    </tr>\n",
       "    <tr>\n",
       "      <th>top</th>\n",
       "      <td>Sunday</td>\n",
       "      <td>GROCERY DRY GOODS</td>\n",
       "    </tr>\n",
       "    <tr>\n",
       "      <th>freq</th>\n",
       "      <td>94602</td>\n",
       "      <td>49134</td>\n",
       "    </tr>\n",
       "  </tbody>\n",
       "</table>\n",
       "</div>"
      ],
      "text/plain": [
       "       Weekday DepartmentDescription\n",
       "count   453411                452439\n",
       "unique       7                    68\n",
       "top     Sunday     GROCERY DRY GOODS\n",
       "freq     94602                 49134"
      ]
     },
     "execution_count": 8,
     "metadata": {},
     "output_type": "execute_result"
    }
   ],
   "source": [
    "# 5) Como tenemos variables tipo Object, pedimos ver un resumen del resto de los datos (no numéricos)\n",
    "original_df.describe(include=['object'])"
   ]
  },
  {
   "cell_type": "markdown",
   "metadata": {},
   "source": [
    "**Observaciones:**\n",
    "* La mayor compra de un item, fue de 71 unidades\n",
    "* El día más cocurrido para hacer compras es el domingo\n",
    "* Los productos más elegidos son los categorizados como **Grocery dry goods**\n",
    "* Los valores de conteo total por variable no coinciden, lo que nos habla de que hay variables con datos nulos."
   ]
  },
  {
   "cell_type": "code",
   "execution_count": 9,
   "metadata": {},
   "outputs": [
    {
     "data": {
      "text/plain": [
       "Index([], dtype='object')"
      ]
     },
     "execution_count": 9,
     "metadata": {},
     "output_type": "execute_result"
    }
   ],
   "source": [
    "# 6) Chequeamos que no haya caracteres fuera de a-Z, 0-9 y _ en los nombres de las variables/columnas\n",
    "original_df.columns[~original_df.columns.str.match(r'^(\\w+)$')]"
   ]
  },
  {
   "cell_type": "code",
   "execution_count": 10,
   "metadata": {},
   "outputs": [
    {
     "data": {
      "text/plain": [
       "{'Friday', 'Monday', 'Saturday', 'Sunday', 'Thursday', 'Tuesday', 'Wednesday'}"
      ]
     },
     "execution_count": 10,
     "metadata": {},
     "output_type": "execute_result"
    }
   ],
   "source": [
    "# 7) Averiguamos los posibles valores que toman las variables tipo Object\n",
    "# Variable Weekday\n",
    "set(original_df.Weekday)"
   ]
  },
  {
   "cell_type": "code",
   "execution_count": 11,
   "metadata": {},
   "outputs": [
    {
     "data": {
      "text/plain": [
       "{'1-HR PHOTO',\n",
       " 'ACCESSORIES',\n",
       " 'AUTOMOTIVE',\n",
       " 'BAKERY',\n",
       " 'BATH AND SHOWER',\n",
       " 'BEAUTY',\n",
       " 'BEDDING',\n",
       " 'BOOKS AND MAGAZINES',\n",
       " 'BOYS WEAR',\n",
       " 'BRAS & SHAPEWEAR',\n",
       " 'CAMERAS AND SUPPLIES',\n",
       " 'CANDY, TOBACCO, COOKIES',\n",
       " 'CELEBRATION',\n",
       " 'COMM BREAD',\n",
       " 'CONCEPT STORES',\n",
       " 'COOK AND DINE',\n",
       " 'DAIRY',\n",
       " 'DSD GROCERY',\n",
       " 'ELECTRONICS',\n",
       " 'FABRICS AND CRAFTS',\n",
       " 'FINANCIAL SERVICES',\n",
       " 'FROZEN FOODS',\n",
       " 'FURNITURE',\n",
       " 'GIRLS WEAR, 4-6X  AND 7-14',\n",
       " 'GROCERY DRY GOODS',\n",
       " 'HARDWARE',\n",
       " 'HEALTH AND BEAUTY AIDS',\n",
       " 'HOME DECOR',\n",
       " 'HOME MANAGEMENT',\n",
       " 'HORTICULTURE AND ACCESS',\n",
       " 'HOUSEHOLD CHEMICALS/SUPP',\n",
       " 'HOUSEHOLD PAPER GOODS',\n",
       " 'IMPULSE MERCHANDISE',\n",
       " 'INFANT APPAREL',\n",
       " 'INFANT CONSUMABLE HARDLINES',\n",
       " 'JEWELRY AND SUNGLASSES',\n",
       " 'LADIES SOCKS',\n",
       " 'LADIESWEAR',\n",
       " 'LARGE HOUSEHOLD GOODS',\n",
       " 'LAWN AND GARDEN',\n",
       " 'LIQUOR,WINE,BEER',\n",
       " 'MEAT - FRESH & FROZEN',\n",
       " 'MEDIA AND GAMING',\n",
       " 'MENS WEAR',\n",
       " 'MENSWEAR',\n",
       " 'OFFICE SUPPLIES',\n",
       " 'OPTICAL - FRAMES',\n",
       " 'OPTICAL - LENSES',\n",
       " 'OTHER DEPARTMENTS',\n",
       " 'PAINT AND ACCESSORIES',\n",
       " 'PERSONAL CARE',\n",
       " 'PETS AND SUPPLIES',\n",
       " 'PHARMACY OTC',\n",
       " 'PHARMACY RX',\n",
       " 'PLAYERS AND ELECTRONICS',\n",
       " 'PLUS AND MATERNITY',\n",
       " 'PRE PACKED DELI',\n",
       " 'PRODUCE',\n",
       " 'SEAFOOD',\n",
       " 'SEASONAL',\n",
       " 'SERVICE DELI',\n",
       " 'SHEER HOSIERY',\n",
       " 'SHOES',\n",
       " 'SLEEPWEAR/FOUNDATIONS',\n",
       " 'SPORTING GOODS',\n",
       " 'SWIMWEAR/OUTERWEAR',\n",
       " 'TOYS',\n",
       " 'WIRELESS',\n",
       " nan}"
      ]
     },
     "execution_count": 11,
     "metadata": {},
     "output_type": "execute_result"
    }
   ],
   "source": [
    "# Variable DepartmentDescription\n",
    "set(original_df.DepartmentDescription)"
   ]
  },
  {
   "cell_type": "code",
   "execution_count": 12,
   "metadata": {},
   "outputs": [
    {
     "data": {
      "text/html": [
       "<style  type=\"text/css\" >\n",
       "</style><table id=\"T_74784dcc_043e_11eb_9fee_08d23e6954c8\" style='display:inline;padding-left:20px;'><caption>Cantidad por TRIPTYPE</caption><thead>    <tr>        <th class=\"blank level0\" ></th>        <th class=\"col_heading level0 col0\" >TripType</th>    </tr></thead><tbody>\n",
       "                <tr>\n",
       "                        <th id=\"T_74784dcc_043e_11eb_9fee_08d23e6954c8level0_row0\" class=\"row_heading level0 row0\" >14</th>\n",
       "                        <td id=\"T_74784dcc_043e_11eb_9fee_08d23e6954c8row0_col0\" class=\"data row0 col0\" >4</td>\n",
       "            </tr>\n",
       "            <tr>\n",
       "                        <th id=\"T_74784dcc_043e_11eb_9fee_08d23e6954c8level0_row1\" class=\"row_heading level0 row1\" >23</th>\n",
       "                        <td id=\"T_74784dcc_043e_11eb_9fee_08d23e6954c8row1_col0\" class=\"data row1 col0\" >98</td>\n",
       "            </tr>\n",
       "            <tr>\n",
       "                        <th id=\"T_74784dcc_043e_11eb_9fee_08d23e6954c8level0_row2\" class=\"row_heading level0 row2\" >12</th>\n",
       "                        <td id=\"T_74784dcc_043e_11eb_9fee_08d23e6954c8row2_col0\" class=\"data row2 col0\" >187</td>\n",
       "            </tr>\n",
       "            <tr>\n",
       "                        <th id=\"T_74784dcc_043e_11eb_9fee_08d23e6954c8level0_row3\" class=\"row_heading level0 row3\" >4</th>\n",
       "                        <td id=\"T_74784dcc_043e_11eb_9fee_08d23e6954c8row3_col0\" class=\"data row3 col0\" >245</td>\n",
       "            </tr>\n",
       "            <tr>\n",
       "                        <th id=\"T_74784dcc_043e_11eb_9fee_08d23e6954c8level0_row4\" class=\"row_heading level0 row4\" >19</th>\n",
       "                        <td id=\"T_74784dcc_043e_11eb_9fee_08d23e6954c8row4_col0\" class=\"data row4 col0\" >252</td>\n",
       "            </tr>\n",
       "            <tr>\n",
       "                        <th id=\"T_74784dcc_043e_11eb_9fee_08d23e6954c8level0_row5\" class=\"row_heading level0 row5\" >29</th>\n",
       "                        <td id=\"T_74784dcc_043e_11eb_9fee_08d23e6954c8row5_col0\" class=\"data row5 col0\" >313</td>\n",
       "            </tr>\n",
       "            <tr>\n",
       "                        <th id=\"T_74784dcc_043e_11eb_9fee_08d23e6954c8level0_row6\" class=\"row_heading level0 row6\" >28</th>\n",
       "                        <td id=\"T_74784dcc_043e_11eb_9fee_08d23e6954c8row6_col0\" class=\"data row6 col0\" >331</td>\n",
       "            </tr>\n",
       "            <tr>\n",
       "                        <th id=\"T_74784dcc_043e_11eb_9fee_08d23e6954c8level0_row7\" class=\"row_heading level0 row7\" >26</th>\n",
       "                        <td id=\"T_74784dcc_043e_11eb_9fee_08d23e6954c8row7_col0\" class=\"data row7 col0\" >355</td>\n",
       "            </tr>\n",
       "            <tr>\n",
       "                        <th id=\"T_74784dcc_043e_11eb_9fee_08d23e6954c8level0_row8\" class=\"row_heading level0 row8\" >18</th>\n",
       "                        <td id=\"T_74784dcc_043e_11eb_9fee_08d23e6954c8row8_col0\" class=\"data row8 col0\" >384</td>\n",
       "            </tr>\n",
       "            <tr>\n",
       "                        <th id=\"T_74784dcc_043e_11eb_9fee_08d23e6954c8level0_row9\" class=\"row_heading level0 row9\" >41</th>\n",
       "                        <td id=\"T_74784dcc_043e_11eb_9fee_08d23e6954c8row9_col0\" class=\"data row9 col0\" >412</td>\n",
       "            </tr>\n",
       "            <tr>\n",
       "                        <th id=\"T_74784dcc_043e_11eb_9fee_08d23e6954c8level0_row10\" class=\"row_heading level0 row10\" >31</th>\n",
       "                        <td id=\"T_74784dcc_043e_11eb_9fee_08d23e6954c8row10_col0\" class=\"data row10 col0\" >422</td>\n",
       "            </tr>\n",
       "            <tr>\n",
       "                        <th id=\"T_74784dcc_043e_11eb_9fee_08d23e6954c8level0_row11\" class=\"row_heading level0 row11\" >20</th>\n",
       "                        <td id=\"T_74784dcc_043e_11eb_9fee_08d23e6954c8row11_col0\" class=\"data row11 col0\" >440</td>\n",
       "            </tr>\n",
       "            <tr>\n",
       "                        <th id=\"T_74784dcc_043e_11eb_9fee_08d23e6954c8level0_row12\" class=\"row_heading level0 row12\" >21</th>\n",
       "                        <td id=\"T_74784dcc_043e_11eb_9fee_08d23e6954c8row12_col0\" class=\"data row12 col0\" >468</td>\n",
       "            </tr>\n",
       "            <tr>\n",
       "                        <th id=\"T_74784dcc_043e_11eb_9fee_08d23e6954c8level0_row13\" class=\"row_heading level0 row13\" >34</th>\n",
       "                        <td id=\"T_74784dcc_043e_11eb_9fee_08d23e6954c8row13_col0\" class=\"data row13 col0\" >494</td>\n",
       "            </tr>\n",
       "            <tr>\n",
       "                        <th id=\"T_74784dcc_043e_11eb_9fee_08d23e6954c8level0_row14\" class=\"row_heading level0 row14\" >27</th>\n",
       "                        <td id=\"T_74784dcc_043e_11eb_9fee_08d23e6954c8row14_col0\" class=\"data row14 col0\" >556</td>\n",
       "            </tr>\n",
       "            <tr>\n",
       "                        <th id=\"T_74784dcc_043e_11eb_9fee_08d23e6954c8level0_row15\" class=\"row_heading level0 row15\" >43</th>\n",
       "                        <td id=\"T_74784dcc_043e_11eb_9fee_08d23e6954c8row15_col0\" class=\"data row15 col0\" >615</td>\n",
       "            </tr>\n",
       "            <tr>\n",
       "                        <th id=\"T_74784dcc_043e_11eb_9fee_08d23e6954c8level0_row16\" class=\"row_heading level0 row16\" >22</th>\n",
       "                        <td id=\"T_74784dcc_043e_11eb_9fee_08d23e6954c8row16_col0\" class=\"data row16 col0\" >680</td>\n",
       "            </tr>\n",
       "            <tr>\n",
       "                        <th id=\"T_74784dcc_043e_11eb_9fee_08d23e6954c8level0_row17\" class=\"row_heading level0 row17\" >15</th>\n",
       "                        <td id=\"T_74784dcc_043e_11eb_9fee_08d23e6954c8row17_col0\" class=\"data row17 col0\" >683</td>\n",
       "            </tr>\n",
       "            <tr>\n",
       "                        <th id=\"T_74784dcc_043e_11eb_9fee_08d23e6954c8level0_row18\" class=\"row_heading level0 row18\" >30</th>\n",
       "                        <td id=\"T_74784dcc_043e_11eb_9fee_08d23e6954c8row18_col0\" class=\"data row18 col0\" >776</td>\n",
       "            </tr>\n",
       "            <tr>\n",
       "                        <th id=\"T_74784dcc_043e_11eb_9fee_08d23e6954c8level0_row19\" class=\"row_heading level0 row19\" >44</th>\n",
       "                        <td id=\"T_74784dcc_043e_11eb_9fee_08d23e6954c8row19_col0\" class=\"data row19 col0\" >816</td>\n",
       "            </tr>\n",
       "            <tr>\n",
       "                        <th id=\"T_74784dcc_043e_11eb_9fee_08d23e6954c8level0_row20\" class=\"row_heading level0 row20\" >6</th>\n",
       "                        <td id=\"T_74784dcc_043e_11eb_9fee_08d23e6954c8row20_col0\" class=\"data row20 col0\" >881</td>\n",
       "            </tr>\n",
       "            <tr>\n",
       "                        <th id=\"T_74784dcc_043e_11eb_9fee_08d23e6954c8level0_row21\" class=\"row_heading level0 row21\" >33</th>\n",
       "                        <td id=\"T_74784dcc_043e_11eb_9fee_08d23e6954c8row21_col0\" class=\"data row21 col0\" >923</td>\n",
       "            </tr>\n",
       "            <tr>\n",
       "                        <th id=\"T_74784dcc_043e_11eb_9fee_08d23e6954c8level0_row22\" class=\"row_heading level0 row22\" >42</th>\n",
       "                        <td id=\"T_74784dcc_043e_11eb_9fee_08d23e6954c8row22_col0\" class=\"data row22 col0\" >1303</td>\n",
       "            </tr>\n",
       "            <tr>\n",
       "                        <th id=\"T_74784dcc_043e_11eb_9fee_08d23e6954c8level0_row23\" class=\"row_heading level0 row23\" >32</th>\n",
       "                        <td id=\"T_74784dcc_043e_11eb_9fee_08d23e6954c8row23_col0\" class=\"data row23 col0\" >1363</td>\n",
       "            </tr>\n",
       "            <tr>\n",
       "                        <th id=\"T_74784dcc_043e_11eb_9fee_08d23e6954c8level0_row24\" class=\"row_heading level0 row24\" >35</th>\n",
       "                        <td id=\"T_74784dcc_043e_11eb_9fee_08d23e6954c8row24_col0\" class=\"data row24 col0\" >1407</td>\n",
       "            </tr>\n",
       "            <tr>\n",
       "                        <th id=\"T_74784dcc_043e_11eb_9fee_08d23e6954c8level0_row25\" class=\"row_heading level0 row25\" >24</th>\n",
       "                        <td id=\"T_74784dcc_043e_11eb_9fee_08d23e6954c8row25_col0\" class=\"data row25 col0\" >1805</td>\n",
       "            </tr>\n",
       "            <tr>\n",
       "                        <th id=\"T_74784dcc_043e_11eb_9fee_08d23e6954c8level0_row26\" class=\"row_heading level0 row26\" >37</th>\n",
       "                        <td id=\"T_74784dcc_043e_11eb_9fee_08d23e6954c8row26_col0\" class=\"data row26 col0\" >1970</td>\n",
       "            </tr>\n",
       "            <tr>\n",
       "                        <th id=\"T_74784dcc_043e_11eb_9fee_08d23e6954c8level0_row27\" class=\"row_heading level0 row27\" >38</th>\n",
       "                        <td id=\"T_74784dcc_043e_11eb_9fee_08d23e6954c8row27_col0\" class=\"data row27 col0\" >2032</td>\n",
       "            </tr>\n",
       "            <tr>\n",
       "                        <th id=\"T_74784dcc_043e_11eb_9fee_08d23e6954c8level0_row28\" class=\"row_heading level0 row28\" >36</th>\n",
       "                        <td id=\"T_74784dcc_043e_11eb_9fee_08d23e6954c8row28_col0\" class=\"data row28 col0\" >2132</td>\n",
       "            </tr>\n",
       "            <tr>\n",
       "                        <th id=\"T_74784dcc_043e_11eb_9fee_08d23e6954c8level0_row29\" class=\"row_heading level0 row29\" >3</th>\n",
       "                        <td id=\"T_74784dcc_043e_11eb_9fee_08d23e6954c8row29_col0\" class=\"data row29 col0\" >2587</td>\n",
       "            </tr>\n",
       "            <tr>\n",
       "                        <th id=\"T_74784dcc_043e_11eb_9fee_08d23e6954c8level0_row30\" class=\"row_heading level0 row30\" >25</th>\n",
       "                        <td id=\"T_74784dcc_043e_11eb_9fee_08d23e6954c8row30_col0\" class=\"data row30 col0\" >2598</td>\n",
       "            </tr>\n",
       "            <tr>\n",
       "                        <th id=\"T_74784dcc_043e_11eb_9fee_08d23e6954c8level0_row31\" class=\"row_heading level0 row31\" >5</th>\n",
       "                        <td id=\"T_74784dcc_043e_11eb_9fee_08d23e6954c8row31_col0\" class=\"data row31 col0\" >3194</td>\n",
       "            </tr>\n",
       "            <tr>\n",
       "                        <th id=\"T_74784dcc_043e_11eb_9fee_08d23e6954c8level0_row32\" class=\"row_heading level0 row32\" >7</th>\n",
       "                        <td id=\"T_74784dcc_043e_11eb_9fee_08d23e6954c8row32_col0\" class=\"data row32 col0\" >4031</td>\n",
       "            </tr>\n",
       "            <tr>\n",
       "                        <th id=\"T_74784dcc_043e_11eb_9fee_08d23e6954c8level0_row33\" class=\"row_heading level0 row33\" >40</th>\n",
       "                        <td id=\"T_74784dcc_043e_11eb_9fee_08d23e6954c8row33_col0\" class=\"data row33 col0\" >4284</td>\n",
       "            </tr>\n",
       "            <tr>\n",
       "                        <th id=\"T_74784dcc_043e_11eb_9fee_08d23e6954c8level0_row34\" class=\"row_heading level0 row34\" >999</th>\n",
       "                        <td id=\"T_74784dcc_043e_11eb_9fee_08d23e6954c8row34_col0\" class=\"data row34 col0\" >5865</td>\n",
       "            </tr>\n",
       "            <tr>\n",
       "                        <th id=\"T_74784dcc_043e_11eb_9fee_08d23e6954c8level0_row35\" class=\"row_heading level0 row35\" >9</th>\n",
       "                        <td id=\"T_74784dcc_043e_11eb_9fee_08d23e6954c8row35_col0\" class=\"data row35 col0\" >6627</td>\n",
       "            </tr>\n",
       "            <tr>\n",
       "                        <th id=\"T_74784dcc_043e_11eb_9fee_08d23e6954c8level0_row36\" class=\"row_heading level0 row36\" >39</th>\n",
       "                        <td id=\"T_74784dcc_043e_11eb_9fee_08d23e6954c8row36_col0\" class=\"data row36 col0\" >6977</td>\n",
       "            </tr>\n",
       "            <tr>\n",
       "                        <th id=\"T_74784dcc_043e_11eb_9fee_08d23e6954c8level0_row37\" class=\"row_heading level0 row37\" >8</th>\n",
       "                        <td id=\"T_74784dcc_043e_11eb_9fee_08d23e6954c8row37_col0\" class=\"data row37 col0\" >8519</td>\n",
       "            </tr>\n",
       "    </tbody></table>"
      ]
     },
     "metadata": {},
     "output_type": "display_data"
    }
   ],
   "source": [
    "# 8) Cuantificamos por Tipo de Viaje (TripType)\n",
    "s_triptype = original_df.groupby(\"VisitNumber\").TripType.mean().value_counts()\n",
    "df_triptype = s_triptype.to_frame(name=\"TripType\")\n",
    "df_triptype = df_triptype.sort_values('TripType')\n",
    "df_triptype_styler = df_triptype.style.set_table_attributes(\"style='display:inline;padding-left:20px;'\").set_caption('Cantidad por TRIPTYPE')\n",
    "display_html(df_triptype_styler._repr_html_(), raw=True)"
   ]
  },
  {
   "cell_type": "code",
   "execution_count": 13,
   "metadata": {},
   "outputs": [
    {
     "data": {
      "text/plain": [
       "<AxesSubplot:title={'center':'Cantidad de Tickets por TripType'}>"
      ]
     },
     "execution_count": 13,
     "metadata": {},
     "output_type": "execute_result"
    },
    {
     "data": {
      "image/png": "[encoded data removed]",
      "text/plain": [
       "<Figure size 576x432 with 1 Axes>"
      ]
     },
     "metadata": {
      "needs_background": "light"
     },
     "output_type": "display_data"
    }
   ],
   "source": [
    "# 9) Agrupamos por VisitNumber para realizar un conteo de los valores de la variable TripType \n",
    "plt.figure (figsize=(8,6))\n",
    "plt.title('Cantidad de Tickets por TripType')\n",
    "sns.despine(left=True)\n",
    "original_df.groupby(\"VisitNumber\").TripType.mean().value_counts().plot(kind='bar')"
   ]
  },
  {
   "cell_type": "markdown",
   "metadata": {},
   "source": [
    "* **Observación:** Los datos se encuentran desbalanceados con respecto a la cantidad de registros por TripType"
   ]
  },
  {
   "cell_type": "code",
   "execution_count": 14,
   "metadata": {},
   "outputs": [
    {
     "data": {
      "image/png": "[encoded data removed]",
      "text/plain": [
       "<Figure size 432x288 with 1 Axes>"
      ]
     },
     "metadata": {
      "needs_background": "light"
     },
     "output_type": "display_data"
    }
   ],
   "source": [
    "# 10) Graficamos TripType agrupado por Weekday\n",
    "plt.figure (figsize=(6,4))\n",
    "plt.title('TripType agrupado por Weekday')\n",
    "sns.countplot(data=original_df, x='Weekday', color='dodgerblue')\n",
    "plt.xticks(rotation=90)\n",
    "plt.ylabel('Quantity')\n",
    "sns.despine(left=True)"
   ]
  },
  {
   "cell_type": "markdown",
   "metadata": {},
   "source": [
    "## 1.2 Verificacion de Valores Nulos"
   ]
  },
  {
   "cell_type": "code",
   "execution_count": 15,
   "metadata": {},
   "outputs": [
    {
     "data": {
      "text/plain": [
       "Upc                      2852\n",
       "DepartmentDescription     972\n",
       "FinelineNumber           2852\n",
       "dtype: int64"
      ]
     },
     "execution_count": 15,
     "metadata": {},
     "output_type": "execute_result"
    }
   ],
   "source": [
    "# 1) Obtenemos el número de valores faltantes por columna(variables) \n",
    "missing_values_count = original_df.isnull().sum()\n",
    "missing_values_count[missing_values_count > 0]   "
   ]
  },
  {
   "cell_type": "code",
   "execution_count": 16,
   "metadata": {},
   "outputs": [
    {
     "data": {
      "text/plain": [
       "(972, 972)"
      ]
     },
     "execution_count": 16,
     "metadata": {},
     "output_type": "execute_result"
    }
   ],
   "source": [
    "# 2) Chequeamos si los registros con valores nulos de DepartmentDescription, se corresponden con los de Upc y FinelineNumber\n",
    "(original_df.DepartmentDescription.isnull().sum(),\n",
    " (original_df.DepartmentDescription.isnull() & original_df.Upc.isnull() & original_df.FinelineNumber.isnull()).sum()) # si es nan el departamento los otros dos atributos lo son"
   ]
  },
  {
   "cell_type": "code",
   "execution_count": 17,
   "metadata": {},
   "outputs": [
    {
     "data": {
      "text/plain": [
       "(2852, 2852, 2852)"
      ]
     },
     "execution_count": 17,
     "metadata": {},
     "output_type": "execute_result"
    }
   ],
   "source": [
    "# 3) Chequeamos si los registros con valores nulos de Upc, se corresponden con los de FinelineNumber\n",
    "(original_df.Upc.isnull().sum(),\n",
    " original_df.FinelineNumber.isnull().sum(),\n",
    " (original_df.FinelineNumber.isnull() & original_df.Upc.isnull()).sum())"
   ]
  },
  {
   "cell_type": "code",
   "execution_count": 18,
   "metadata": {},
   "outputs": [
    {
     "name": "stdout",
     "output_type": "stream",
     "text": [
      "0\n",
      "1880\n",
      "1880\n"
     ]
    }
   ],
   "source": [
    "# 4) Eliminamos los registros que tengan valores nulos para las 3 variables\n",
    "df_notna = original_df[pd.notnull(original_df['DepartmentDescription'])]\n",
    "print(df_notna.DepartmentDescription.isnull().sum())\n",
    "print(df_notna.FinelineNumber.isnull().sum())\n",
    "print(df_notna.Upc.isnull().sum())"
   ]
  },
  {
   "cell_type": "code",
   "execution_count": 19,
   "metadata": {},
   "outputs": [
    {
     "name": "stdout",
     "output_type": "stream",
     "text": [
      "Cantidad de Registros iniciales; 453411\n",
      "Cantidad de registros removidos: 972\n",
      "Cantidad de Registros actuales: 452439\n"
     ]
    }
   ],
   "source": [
    "print(\"Cantidad de Registros iniciales;\", len(original_df))\n",
    "print(\"Cantidad de registros removidos:\", len(original_df) - len(df_notna))\n",
    "print(\"Cantidad de Registros actuales:\", len(df_notna))"
   ]
  },
  {
   "cell_type": "code",
   "execution_count": 20,
   "metadata": {},
   "outputs": [
    {
     "data": {
      "text/plain": [
       "0"
      ]
     },
     "execution_count": 20,
     "metadata": {},
     "output_type": "execute_result"
    }
   ],
   "source": [
    "# 5) Reemplazamos los NaN de la feature UPC por la moda ya que se trata de una variable numerica discreta\n",
    "warnings.filterwarnings('ignore')\n",
    "df_notna.Upc.mode()[0]\n",
    "\n",
    "df_notna.fillna({'Upc': df_notna.Upc.mode()[0]}, inplace=True)\n",
    "df_notna.Upc.isnull().sum()"
   ]
  },
  {
   "cell_type": "code",
   "execution_count": 21,
   "metadata": {},
   "outputs": [
    {
     "data": {
      "text/plain": [
       "0"
      ]
     },
     "execution_count": 21,
     "metadata": {},
     "output_type": "execute_result"
    }
   ],
   "source": [
    "# 6) Reemplazamos los NaN de la feature FinelineNumber por la moda ya que se trata de una variable numerica discreta\n",
    "warnings.filterwarnings('ignore')\n",
    "df_notna.FinelineNumber.mode()[0]\n",
    "\n",
    "df_notna.fillna({'FinelineNumber': df_notna.FinelineNumber.mode()[0]}, inplace=True)\n",
    "df_notna.FinelineNumber.isnull().sum()"
   ]
  },
  {
   "cell_type": "markdown",
   "metadata": {},
   "source": [
    "**Observaciones:** \n",
    "* Tenemos tres variables con valores nulos (Upc, DepartmentDescription y FinelineNumber).\n",
    "* La cantidad de nulos para las variables Upc y FinelineNumber es el mismo, y los registros se corresponden.\n",
    "* Verificamos que cuando DepartmentDescription es NaN, las columnas Upc y FinelineNumber también lo son, por lo tanto removemos esos registros.\n",
    "* Reemplazamos por la moda, los valores nulos de las variables Upc y FinelineNumber."
   ]
  },
  {
   "cell_type": "markdown",
   "metadata": {},
   "source": [
    "## 1.3 Verificacion y eliminacion de Outliers"
   ]
  },
  {
   "cell_type": "code",
   "execution_count": 22,
   "metadata": {},
   "outputs": [
    {
     "data": {
      "image/png": "[encoded data removed]",
      "text/plain": [
       "<Figure size 1080x576 with 1 Axes>"
      ]
     },
     "metadata": {
      "needs_background": "light"
     },
     "output_type": "display_data"
    },
    {
     "data": {
      "image/png": "[encoded data removed]",
      "text/plain": [
       "<Figure size 1080x576 with 1 Axes>"
      ]
     },
     "metadata": {
      "needs_background": "light"
     },
     "output_type": "display_data"
    },
    {
     "data": {
      "image/png": "[encoded data removed]",
      "text/plain": [
       "<Figure size 1080x576 with 1 Axes>"
      ]
     },
     "metadata": {
      "needs_background": "light"
     },
     "output_type": "display_data"
    },
    {
     "data": {
      "image/png": "[encoded data removed]",
      "text/plain": [
       "<Figure size 1080x576 with 1 Axes>"
      ]
     },
     "metadata": {
      "needs_background": "light"
     },
     "output_type": "display_data"
    },
    {
     "data": {
      "image/png": "[encoded data removed]",
      "text/plain": [
       "<Figure size 1080x576 with 1 Axes>"
      ]
     },
     "metadata": {
      "needs_background": "light"
     },
     "output_type": "display_data"
    },
    {
     "data": {
      "image/png": "[encoded data removed]",
      "text/plain": [
       "<Figure size 1080x576 with 1 Axes>"
      ]
     },
     "metadata": {
      "needs_background": "light"
     },
     "output_type": "display_data"
    }
   ],
   "source": [
    "# 1) Graficamos los boxplot para detectar outliers\n",
    "for feature in df_notna.columns:\n",
    "    if feature != 'TripType':\n",
    "        plt.figure (figsize=(15,8))\n",
    "        sns.boxplot(data=df_notna, color='dodgerblue', x='TripType', y=feature)\n",
    "        plt.xlim(0, 50)\n",
    "        plt.ylabel(feature)\n",
    "        plt.xlabel('TripType')\n",
    "        plt.show()"
   ]
  },
  {
   "cell_type": "markdown",
   "metadata": {},
   "source": [
    "**Observaciones:**\n",
    "* Para la variable **VisitNumber** se detectan muy pocos outliers en los Triptype 12 y 14. Pero al ser una variable identificadora (id) no se considerarán como outliers esos valores.\n",
    "* La variable **Upc** posee muhcos outliers para la mayoría de los diferentes Triptype. \n",
    "* La variable **FinelineNumber** que también es un código de clasificación, posee menos outliers que **Upc**.\n",
    "* Podemos notar que para la variable **ScanCount** existen outliers para algunos Tipos de Viaje (TripType).\n",
    "* La variable  **DepartmentDescription** posee muchas categorías con outliers."
   ]
  },
  {
   "cell_type": "code",
   "execution_count": 23,
   "metadata": {},
   "outputs": [],
   "source": [
    "# 2) Filtramos los outliers \n",
    "def clean_outliers(dataset, column_name):\n",
    "    \"\"\"Returns dataset removing the outlier rows from column @column_name.\"\"\"\n",
    "    interesting_col = dataset[column_name]\n",
    "    mask_var_outlier = (\n",
    "        np.abs(interesting_col - interesting_col.mean()) <= (15 * interesting_col.std()))\n",
    "    return dataset[mask_var_outlier]"
   ]
  },
  {
   "cell_type": "code",
   "execution_count": 24,
   "metadata": {},
   "outputs": [
    {
     "name": "stdout",
     "output_type": "stream",
     "text": [
      "Filas removidas 100\n"
     ]
    }
   ],
   "source": [
    "# 2.A) Filtramos los outliers de la variable ScanCount\n",
    "df_clean_ScanCount = clean_outliers(df_notna, \"ScanCount\")\n",
    "print(\"Filas removidas\", len(df_notna) - len(df_clean_ScanCount))"
   ]
  },
  {
   "cell_type": "code",
   "execution_count": 25,
   "metadata": {},
   "outputs": [
    {
     "name": "stdout",
     "output_type": "stream",
     "text": [
      "Cantidad de registros iniciales 453411\n",
      "Total de registros filtrados 1072\n",
      "Total de registros actuales 452339\n"
     ]
    }
   ],
   "source": [
    "# 2.B) Redefiimos el nombre del dataset y calculamos el total de filas removidas hasta el momento\n",
    "df_clean = df_clean_ScanCount\n",
    "print(\"Cantidad de registros iniciales\", len(original_df))\n",
    "print(\"Total de registros filtrados\", len(original_df) - len(df_clean))\n",
    "print(\"Total de registros actuales\", len(df_clean))"
   ]
  },
  {
   "cell_type": "code",
   "execution_count": 26,
   "metadata": {},
   "outputs": [
    {
     "data": {
      "text/plain": [
       "Text(0.5, 0, 'TripType')"
      ]
     },
     "execution_count": 26,
     "metadata": {},
     "output_type": "execute_result"
    },
    {
     "data": {
      "image/png": "[encoded data removed]",
      "text/plain": [
       "<Figure size 1224x432 with 2 Axes>"
      ]
     },
     "metadata": {
      "needs_background": "light"
     },
     "output_type": "display_data"
    }
   ],
   "source": [
    "# 3) Graficamos los boxplot para corroborar la limpieza de los outliers de la variable ScanCount\n",
    "\n",
    "plt.figure (figsize=(17,6))\n",
    "\n",
    "plt.subplot(121)\n",
    "plt1=sns.boxplot(data=original_df, color='green', x='TripType', y='ScanCount')\n",
    "plt.title('ScanCount Original')\n",
    "plt.ylabel('ScanCount')\n",
    "plt.xlabel('TripType')\n",
    "\n",
    "plt.subplot(122)\n",
    "plt2=sns.boxplot(data=df_clean, color='green', x='TripType', y='ScanCount')\n",
    "plt.title('ScanCount Filtrado')\n",
    "plt.ylabel('ScanCount')\n",
    "plt.xlabel('TripType')"
   ]
  },
  {
   "cell_type": "code",
   "execution_count": 27,
   "metadata": {},
   "outputs": [
    {
     "name": "stdout",
     "output_type": "stream",
     "text": [
      "[1]\n"
     ]
    }
   ],
   "source": [
    "# 4) Agrupamos los registros por VisitNumber\n",
    "df_group = original_df.groupby(by='VisitNumber', as_index=False).agg({'Weekday': pd.Series.nunique})\n",
    "print(df_group['Weekday'].unique())"
   ]
  },
  {
   "cell_type": "code",
   "execution_count": 28,
   "metadata": {},
   "outputs": [
    {
     "name": "stdout",
     "output_type": "stream",
     "text": [
      "[1]\n"
     ]
    }
   ],
   "source": [
    "df_group = original_df.groupby(by='VisitNumber', as_index=False).agg({'TripType': pd.Series.nunique})\n",
    "print(df_group['TripType'].unique()) "
   ]
  },
  {
   "cell_type": "markdown",
   "metadata": {},
   "source": [
    "**Observaciones:**\n",
    "* Al agrupar por **VisitNumber** y verificar los valores de Weekday notamos que todos los tickets son únicos para la variable Weekday\n",
    "* Indica que Cada Visitante realizó una única compra en un mismo día.\n",
    "* Al agrupar por **VisitNumber** y verificar los valores de TripType notamos tambien que todos los tickets son únicos para esta feature"
   ]
  },
  {
   "cell_type": "markdown",
   "metadata": {},
   "source": [
    "## 1.4  Luego del análisis exploratorio, presentamos las consideraciones importantes que tomaremos en cuenta para la creación de la función que limpie y cargue el nuevo dataset:\n",
    "* **1)** Usaremos **One hot encoding** para las variables **Weekday** y **DepartmentDescription**. Todas las transformaciones son aplicadas a los sets de Train y Test.\n",
    "* **2)** No filtraremos los valores nulos de **DepartmentDescription**.\n",
    "* **3)** Reemplazamos los valores nulos de la variable **Upc**  y **FinelineNumber** por la moda, ya que se trata de variables numéricas discretas.\n",
    "* **4)** Es posible que tengamos varios registros para una sola visita (VisitNumber) y el objetivo es clasificar todos esos registros exactamente de la misma manera. Por tanto, prepararemos los datos de forma que toda la información de una visita quede en el mismo registro.\n",
    "* **5)** Agrupamos por la variable **VisitNumber**\n",
    "* **6)** Para probar los distintos modelos tomaremos la mitad del dataset en forma aleatoria."
   ]
  },
  {
   "cell_type": "code",
   "execution_count": 29,
   "metadata": {},
   "outputs": [],
   "source": [
    "def transform_data(train_data_fname, test_data_fname):\n",
    "    # Cargamos el dataset de Entrenamiento\n",
    "    df_train = pd.read_csv(train_data_fname) \n",
    "    df_train['is_train_set'] = 1\n",
    "    \n",
    "    # Cargamos el dataset de Evaluación\n",
    "    df_test = pd.read_csv(test_data_fname) \n",
    "    df_test['is_train_set'] = 0\n",
    "   \n",
    "    # En el set de Entrenamiento\n",
    "    # Agrupamos el dataset por VisitNumber y obtenemos el máximo\n",
    "    y = df_train.groupby([\"VisitNumber\", \"Weekday\"], as_index=False).max().TripType\n",
    "\n",
    "    # Removemos la variable TripType\n",
    "    # Unificamos los conjuntos de datos (train y test)\n",
    "    # Utilizamos la función concat para mantener el mismo índice de los registros\n",
    "    df_train = df_train.drop(\"TripType\", axis=1)\n",
    "    df = pd.concat([df_train, df_test])\n",
    "    \n",
    "    # Reemplazamos los valores nulos de Upc y Finelinenumber\n",
    "    df.fillna({'Upc': original_df.Upc.mode()[0]}, inplace=True)\n",
    "    df.fillna({'FinelineNumber': original_df.FinelineNumber.mode()[0]}, inplace=True)\n",
    "\n",
    "    # Aplicamos one-hot encoding para la variable DepartmentDescription sin valores nulos\n",
    "    df = pd.get_dummies(df, columns=[\"DepartmentDescription\"], dummy_na=True)\n",
    "\n",
    "    # Agrupamos por visitNumber\n",
    "    df = df.groupby([\"VisitNumber\", \"Weekday\"], as_index=False).sum()\n",
    "    \n",
    "    # Aplicamos one-hot encoding par la variable Weekday\n",
    "    df = pd.get_dummies(df, columns=[\"Weekday\"], dummy_na=True)\n",
    "\n",
    "    # Obtenemos los sets de Entrenamiento y Evaluación\n",
    "    df_train = df[df.is_train_set != 0]\n",
    "    df_test = df[df.is_train_set == 0]\n",
    "    \n",
    "    X = df_train.drop([\"is_train_set\"], axis=1)\n",
    "    yy = None\n",
    "    XX = df_test.drop([\"is_train_set\"], axis=1)\n",
    "\n",
    "    return X, y, XX, yy"
   ]
  },
  {
   "cell_type": "code",
   "execution_count": 30,
   "metadata": {},
   "outputs": [],
   "source": [
    "# Cargamos la información del dataset\n",
    "X, y, XX, yy = transform_data(\"../data/train.csv\", \"../data/test.csv\")"
   ]
  },
  {
   "cell_type": "code",
   "execution_count": 31,
   "metadata": {},
   "outputs": [
    {
     "data": {
      "text/plain": [
       "((67029, 81), (67029,), (28645, 81))"
      ]
     },
     "execution_count": 31,
     "metadata": {},
     "output_type": "execute_result"
    }
   ],
   "source": [
    "X.shape, y.shape, XX.shape"
   ]
  },
  {
   "cell_type": "markdown",
   "metadata": {},
   "source": [
    "### 2. Prueba de diferentes modelos para seleccionar cual ajusta mejor a nuestros datos"
   ]
  },
  {
   "cell_type": "markdown",
   "metadata": {},
   "source": [
    "**DESBALANCEO DE DATOS**\n",
    "Podemos optar por alguno de estos dos metodos para balancearlos\n",
    "\n",
    "*Ajuste de Parámetros del modelo*: Consiste en ajustar parametros ó metricas del propio algoritmo para intentar equilibrar a la clase minoritaria penalizando a la clase mayoritaria durante el entrenamiento. Ejemplos on ajuste de peso en árboles, también en logisticregression tenemos el parámetro class_weight= “balanced” que utilizaremos en este ejemplo. No todos los algoritmos tienen estas posibilidades. En redes neuronales por ejemplo podríamos ajustar la métrica de Loss para que penalice a las clases mayoritarias.\n",
    "\n",
    "*Balanced Ensemble Methods*: Utiliza las ventajas de hacer ensamble de métodos, es decir, entrenar diversos modelos y entre todos obtener el resultado final (por ejemplo “votando”) pero se asegura de tomar muestras de entrenamiento equilibradas."
   ]
  },
  {
   "cell_type": "markdown",
   "metadata": {},
   "source": [
    "# Creación y Evaluación del modelo\n",
    "### Los mejores modelos ya fueron presentados cada uno en su respectiva notebook.\n",
    "### En este caso presentaremos otros modelos probados, pero que no superaron el Accuracy obtenido con Random Forest en las noteboks 4, 7 y 8."
   ]
  },
  {
   "cell_type": "markdown",
   "metadata": {},
   "source": [
    "#### 2.1. Selección del Modelo: **Decision Tree**"
   ]
  },
  {
   "cell_type": "code",
   "execution_count": 32,
   "metadata": {},
   "outputs": [],
   "source": [
    "# Divisiòn del dataset\n",
    "X_train, X_valid, y_train, y_valid = train_test_split(X, y, test_size=0.3, random_state=0)"
   ]
  },
  {
   "cell_type": "code",
   "execution_count": 33,
   "metadata": {},
   "outputs": [],
   "source": [
    "res_acc_df = pd.DataFrame(columns=('description', 'clf', 'best_acc'))"
   ]
  },
  {
   "cell_type": "code",
   "execution_count": 34,
   "metadata": {},
   "outputs": [],
   "source": [
    "# Seteo de Hiperparametros\n",
    "tree_param = {\n",
    "              'criterion':('gini', 'entropy'), \n",
    "              'min_samples_leaf':(1, 2, 5),\n",
    "              'min_samples_split':(2, 3, 5, 10, 50, 100),\n",
    "              'random_state':(0, 1, 2, 42)\n",
    "             }\n",
    "\n",
    "model_tree = DT()\n",
    "\n",
    "tree_clf = GridSearchCV(model_tree, tree_param, cv=3, scoring='accuracy') #scoring='balanced_accuracy')"
   ]
  },
  {
   "cell_type": "code",
   "execution_count": 35,
   "metadata": {},
   "outputs": [
    {
     "data": {
      "text/plain": [
       "GridSearchCV(cv=3, estimator=DecisionTreeClassifier(),\n",
       "             param_grid={'criterion': ('gini', 'entropy'),\n",
       "                         'min_samples_leaf': (1, 2, 5),\n",
       "                         'min_samples_split': (2, 3, 5, 10, 50, 100),\n",
       "                         'random_state': (0, 1, 2, 42)},\n",
       "             scoring='accuracy')"
      ]
     },
     "execution_count": 35,
     "metadata": {},
     "output_type": "execute_result"
    }
   ],
   "source": [
    "# Entrenamiento del modelo\n",
    "tree_clf.fit(X_train, y_train)"
   ]
  },
  {
   "cell_type": "code",
   "execution_count": 36,
   "metadata": {},
   "outputs": [
    {
     "data": {
      "text/html": [
       "<div>\n",
       "<style scoped>\n",
       "    .dataframe tbody tr th:only-of-type {\n",
       "        vertical-align: middle;\n",
       "    }\n",
       "\n",
       "    .dataframe tbody tr th {\n",
       "        vertical-align: top;\n",
       "    }\n",
       "\n",
       "    .dataframe thead th {\n",
       "        text-align: right;\n",
       "    }\n",
       "</style>\n",
       "<table border=\"1\" class=\"dataframe\">\n",
       "  <thead>\n",
       "    <tr style=\"text-align: right;\">\n",
       "      <th></th>\n",
       "      <th>param_criterion</th>\n",
       "      <th>param_min_samples_leaf</th>\n",
       "      <th>param_min_samples_split</th>\n",
       "      <th>mean_test_score</th>\n",
       "      <th>std_test_score</th>\n",
       "      <th>rank_test_score</th>\n",
       "    </tr>\n",
       "  </thead>\n",
       "  <tbody>\n",
       "    <tr>\n",
       "      <th>0</th>\n",
       "      <td>gini</td>\n",
       "      <td>1</td>\n",
       "      <td>2</td>\n",
       "      <td>0.593372</td>\n",
       "      <td>0.001646</td>\n",
       "      <td>81</td>\n",
       "    </tr>\n",
       "    <tr>\n",
       "      <th>1</th>\n",
       "      <td>gini</td>\n",
       "      <td>1</td>\n",
       "      <td>2</td>\n",
       "      <td>0.593265</td>\n",
       "      <td>0.001979</td>\n",
       "      <td>82</td>\n",
       "    </tr>\n",
       "    <tr>\n",
       "      <th>2</th>\n",
       "      <td>gini</td>\n",
       "      <td>1</td>\n",
       "      <td>2</td>\n",
       "      <td>0.592903</td>\n",
       "      <td>0.001494</td>\n",
       "      <td>83</td>\n",
       "    </tr>\n",
       "    <tr>\n",
       "      <th>3</th>\n",
       "      <td>gini</td>\n",
       "      <td>1</td>\n",
       "      <td>2</td>\n",
       "      <td>0.592711</td>\n",
       "      <td>0.001318</td>\n",
       "      <td>84</td>\n",
       "    </tr>\n",
       "    <tr>\n",
       "      <th>4</th>\n",
       "      <td>gini</td>\n",
       "      <td>1</td>\n",
       "      <td>3</td>\n",
       "      <td>0.593691</td>\n",
       "      <td>0.001855</td>\n",
       "      <td>78</td>\n",
       "    </tr>\n",
       "    <tr>\n",
       "      <th>...</th>\n",
       "      <td>...</td>\n",
       "      <td>...</td>\n",
       "      <td>...</td>\n",
       "      <td>...</td>\n",
       "      <td>...</td>\n",
       "      <td>...</td>\n",
       "    </tr>\n",
       "    <tr>\n",
       "      <th>139</th>\n",
       "      <td>entropy</td>\n",
       "      <td>5</td>\n",
       "      <td>50</td>\n",
       "      <td>0.618564</td>\n",
       "      <td>0.002485</td>\n",
       "      <td>36</td>\n",
       "    </tr>\n",
       "    <tr>\n",
       "      <th>140</th>\n",
       "      <td>entropy</td>\n",
       "      <td>5</td>\n",
       "      <td>100</td>\n",
       "      <td>0.617519</td>\n",
       "      <td>0.002252</td>\n",
       "      <td>41</td>\n",
       "    </tr>\n",
       "    <tr>\n",
       "      <th>141</th>\n",
       "      <td>entropy</td>\n",
       "      <td>5</td>\n",
       "      <td>100</td>\n",
       "      <td>0.617519</td>\n",
       "      <td>0.002252</td>\n",
       "      <td>41</td>\n",
       "    </tr>\n",
       "    <tr>\n",
       "      <th>142</th>\n",
       "      <td>entropy</td>\n",
       "      <td>5</td>\n",
       "      <td>100</td>\n",
       "      <td>0.617519</td>\n",
       "      <td>0.002252</td>\n",
       "      <td>41</td>\n",
       "    </tr>\n",
       "    <tr>\n",
       "      <th>143</th>\n",
       "      <td>entropy</td>\n",
       "      <td>5</td>\n",
       "      <td>100</td>\n",
       "      <td>0.617519</td>\n",
       "      <td>0.002252</td>\n",
       "      <td>41</td>\n",
       "    </tr>\n",
       "  </tbody>\n",
       "</table>\n",
       "<p>144 rows × 6 columns</p>\n",
       "</div>"
      ],
      "text/plain": [
       "    param_criterion param_min_samples_leaf param_min_samples_split  \\\n",
       "0              gini                      1                       2   \n",
       "1              gini                      1                       2   \n",
       "2              gini                      1                       2   \n",
       "3              gini                      1                       2   \n",
       "4              gini                      1                       3   \n",
       "..              ...                    ...                     ...   \n",
       "139         entropy                      5                      50   \n",
       "140         entropy                      5                     100   \n",
       "141         entropy                      5                     100   \n",
       "142         entropy                      5                     100   \n",
       "143         entropy                      5                     100   \n",
       "\n",
       "     mean_test_score  std_test_score  rank_test_score  \n",
       "0           0.593372        0.001646               81  \n",
       "1           0.593265        0.001979               82  \n",
       "2           0.592903        0.001494               83  \n",
       "3           0.592711        0.001318               84  \n",
       "4           0.593691        0.001855               78  \n",
       "..               ...             ...              ...  \n",
       "139         0.618564        0.002485               36  \n",
       "140         0.617519        0.002252               41  \n",
       "141         0.617519        0.002252               41  \n",
       "142         0.617519        0.002252               41  \n",
       "143         0.617519        0.002252               41  \n",
       "\n",
       "[144 rows x 6 columns]"
      ]
     },
     "execution_count": 36,
     "metadata": {},
     "output_type": "execute_result"
    }
   ],
   "source": [
    "# El dataframe results será utilizado para almacenar los resultaados computados\n",
    "results = tree_clf.cv_results_\n",
    "    \n",
    "df = pd.DataFrame(results)\n",
    "df_result = df[['param_criterion', 'param_min_samples_leaf', 'param_min_samples_split', 'mean_test_score', 'std_test_score', 'rank_test_score']]\n",
    "df_result"
   ]
  },
  {
   "cell_type": "code",
   "execution_count": 37,
   "metadata": {},
   "outputs": [
    {
     "data": {
      "text/html": [
       "<div>\n",
       "<style scoped>\n",
       "    .dataframe tbody tr th:only-of-type {\n",
       "        vertical-align: middle;\n",
       "    }\n",
       "\n",
       "    .dataframe tbody tr th {\n",
       "        vertical-align: top;\n",
       "    }\n",
       "\n",
       "    .dataframe thead th {\n",
       "        text-align: right;\n",
       "    }\n",
       "</style>\n",
       "<table border=\"1\" class=\"dataframe\">\n",
       "  <thead>\n",
       "    <tr style=\"text-align: right;\">\n",
       "      <th></th>\n",
       "      <th>param_criterion</th>\n",
       "      <th>param_min_samples_leaf</th>\n",
       "      <th>param_min_samples_split</th>\n",
       "      <th>mean_test_score</th>\n",
       "      <th>std_test_score</th>\n",
       "      <th>rank_test_score</th>\n",
       "    </tr>\n",
       "  </thead>\n",
       "  <tbody>\n",
       "    <tr>\n",
       "      <th>71</th>\n",
       "      <td>gini</td>\n",
       "      <td>5</td>\n",
       "      <td>100</td>\n",
       "      <td>0.638683</td>\n",
       "      <td>0.005303</td>\n",
       "      <td>1</td>\n",
       "    </tr>\n",
       "  </tbody>\n",
       "</table>\n",
       "</div>"
      ],
      "text/plain": [
       "   param_criterion param_min_samples_leaf param_min_samples_split  \\\n",
       "71            gini                      5                     100   \n",
       "\n",
       "    mean_test_score  std_test_score  rank_test_score  \n",
       "71         0.638683        0.005303                1  "
      ]
     },
     "execution_count": 37,
     "metadata": {},
     "output_type": "execute_result"
    }
   ],
   "source": [
    "# Seleccionamos el modelo con mean_test_score mas alto y menor varianza\n",
    "df_bm = df_result[df_result['rank_test_score'] == 1]\n",
    "df_bm"
   ]
  },
  {
   "cell_type": "code",
   "execution_count": 38,
   "metadata": {},
   "outputs": [
    {
     "name": "stdout",
     "output_type": "stream",
     "text": [
      "Mejor Modelo\n",
      " DecisionTreeClassifier(min_samples_leaf=5, min_samples_split=100,\n",
      "                       random_state=42)\n",
      "Mejores Parametros\n",
      " {'criterion': 'gini', 'min_samples_leaf': 5, 'min_samples_split': 100, 'random_state': 42}\n"
     ]
    }
   ],
   "source": [
    "best_tree_clf = tree_clf.best_estimator_\n",
    "bestpar = tree_clf.best_params_\n",
    "\n",
    "print('Mejor Modelo\\n', best_tree_clf)\n",
    "print('Mejores Parametros\\n', bestpar)"
   ]
  },
  {
   "cell_type": "code",
   "execution_count": 39,
   "metadata": {},
   "outputs": [
    {
     "name": "stdout",
     "output_type": "stream",
     "text": [
      "Best Decision Tree accuracy:  0.6386828644501279\n"
     ]
    }
   ],
   "source": [
    "print('Best Decision Tree accuracy: ', tree_clf.best_score_)\n",
    "res_acc_df = res_acc_df.append({'description': 'modelo dt first run', 'clf': best_tree_clf, 'best_acc': tree_clf.best_score_}, ignore_index=True)"
   ]
  },
  {
   "cell_type": "code",
   "execution_count": 40,
   "metadata": {},
   "outputs": [
    {
     "data": {
      "text/html": [
       "<div>\n",
       "<style scoped>\n",
       "    .dataframe tbody tr th:only-of-type {\n",
       "        vertical-align: middle;\n",
       "    }\n",
       "\n",
       "    .dataframe tbody tr th {\n",
       "        vertical-align: top;\n",
       "    }\n",
       "\n",
       "    .dataframe thead th {\n",
       "        text-align: right;\n",
       "    }\n",
       "</style>\n",
       "<table border=\"1\" class=\"dataframe\">\n",
       "  <thead>\n",
       "    <tr style=\"text-align: right;\">\n",
       "      <th></th>\n",
       "      <th>description</th>\n",
       "      <th>clf</th>\n",
       "      <th>best_acc</th>\n",
       "    </tr>\n",
       "  </thead>\n",
       "  <tbody>\n",
       "    <tr>\n",
       "      <th>0</th>\n",
       "      <td>modelo dt first run</td>\n",
       "      <td>DecisionTreeClassifier(min_samples_leaf=5, min...</td>\n",
       "      <td>0.638683</td>\n",
       "    </tr>\n",
       "  </tbody>\n",
       "</table>\n",
       "</div>"
      ],
      "text/plain": [
       "           description                                                clf  \\\n",
       "0  modelo dt first run  DecisionTreeClassifier(min_samples_leaf=5, min...   \n",
       "\n",
       "   best_acc  \n",
       "0  0.638683  "
      ]
     },
     "execution_count": 40,
     "metadata": {},
     "output_type": "execute_result"
    }
   ],
   "source": [
    "res_acc_df"
   ]
  },
  {
   "cell_type": "markdown",
   "metadata": {},
   "source": [
    "#### 2.2. Selección del Modelo: **Naive Bayes**"
   ]
  },
  {
   "cell_type": "code",
   "execution_count": 41,
   "metadata": {},
   "outputs": [],
   "source": [
    "# Dividimos el set de datos en Entrenamiento y Test\n",
    "X_train, X_valid, y_train, y_valid = train_test_split(X, y, test_size=0.4, random_state=0)"
   ]
  },
  {
   "cell_type": "code",
   "execution_count": 42,
   "metadata": {},
   "outputs": [],
   "source": [
    "X_train.ScanCount[X_train.ScanCount < 0 ] = 0"
   ]
  },
  {
   "cell_type": "code",
   "execution_count": 43,
   "metadata": {},
   "outputs": [],
   "source": [
    "modelNB = MultinomialNB().fit(X_train, y_train)"
   ]
  },
  {
   "cell_type": "code",
   "execution_count": 44,
   "metadata": {},
   "outputs": [
    {
     "data": {
      "text/plain": [
       "((40217, 81), (40217,))"
      ]
     },
     "execution_count": 44,
     "metadata": {},
     "output_type": "execute_result"
    }
   ],
   "source": [
    "X_train.shape, y_train.shape"
   ]
  },
  {
   "cell_type": "code",
   "execution_count": 45,
   "metadata": {},
   "outputs": [],
   "source": [
    "y_train_pred=modelNB.predict(X_train)"
   ]
  },
  {
   "cell_type": "code",
   "execution_count": 46,
   "metadata": {},
   "outputs": [
    {
     "name": "stdout",
     "output_type": "stream",
     "text": [
      "Naive Bayes accuracy:  0.16162319417161897\n"
     ]
    }
   ],
   "source": [
    "acc_score = accuracy_score(y_train, y_train_pred)\n",
    "\n",
    "print('Naive Bayes accuracy: ', acc_score)\n",
    "res_acc_df = res_acc_df.append({'description': 'modelo nv second run', 'clf': 'default', 'best_acc': acc_score}, ignore_index=True)"
   ]
  },
  {
   "cell_type": "code",
   "execution_count": 47,
   "metadata": {},
   "outputs": [
    {
     "data": {
      "text/html": [
       "<div>\n",
       "<style scoped>\n",
       "    .dataframe tbody tr th:only-of-type {\n",
       "        vertical-align: middle;\n",
       "    }\n",
       "\n",
       "    .dataframe tbody tr th {\n",
       "        vertical-align: top;\n",
       "    }\n",
       "\n",
       "    .dataframe thead th {\n",
       "        text-align: right;\n",
       "    }\n",
       "</style>\n",
       "<table border=\"1\" class=\"dataframe\">\n",
       "  <thead>\n",
       "    <tr style=\"text-align: right;\">\n",
       "      <th></th>\n",
       "      <th>description</th>\n",
       "      <th>clf</th>\n",
       "      <th>best_acc</th>\n",
       "    </tr>\n",
       "  </thead>\n",
       "  <tbody>\n",
       "    <tr>\n",
       "      <th>0</th>\n",
       "      <td>modelo dt first run</td>\n",
       "      <td>DecisionTreeClassifier(min_samples_leaf=5, min...</td>\n",
       "      <td>0.638683</td>\n",
       "    </tr>\n",
       "    <tr>\n",
       "      <th>1</th>\n",
       "      <td>modelo nv second run</td>\n",
       "      <td>default</td>\n",
       "      <td>0.161623</td>\n",
       "    </tr>\n",
       "  </tbody>\n",
       "</table>\n",
       "</div>"
      ],
      "text/plain": [
       "            description                                                clf  \\\n",
       "0   modelo dt first run  DecisionTreeClassifier(min_samples_leaf=5, min...   \n",
       "1  modelo nv second run                                            default   \n",
       "\n",
       "   best_acc  \n",
       "0  0.638683  \n",
       "1  0.161623  "
      ]
     },
     "execution_count": 47,
     "metadata": {},
     "output_type": "execute_result"
    }
   ],
   "source": [
    "res_acc_df"
   ]
  },
  {
   "cell_type": "markdown",
   "metadata": {},
   "source": [
    "#### 2.3. Selección del Modelo: **Random Forest**"
   ]
  },
  {
   "cell_type": "code",
   "execution_count": 48,
   "metadata": {},
   "outputs": [],
   "source": [
    "# Seteo de hiperparámetos\n",
    "rf_param = {\n",
    "              'criterion':('gini', 'entropy'), \n",
    "              'min_samples_leaf':(1, 2, 5),\n",
    "              'min_samples_split':(2, 3, 5, 10, 50, 100),\n",
    "              'random_state': [0,1,2],\n",
    "              'n_estimators': [50,75,100],\n",
    "              'class_weight' : ('balanced', 'balanced_subsample')\n",
    "            }\n",
    "\n",
    "model_rf = RandomForestClassifier()\n",
    "rf_clf = GridSearchCV(model_rf, rf_param, cv=3, scoring='accuracy') #scoring='balanced_accuracy')"
   ]
  },
  {
   "cell_type": "code",
   "execution_count": 49,
   "metadata": {},
   "outputs": [
    {
     "data": {
      "text/plain": [
       "GridSearchCV(cv=3, estimator=RandomForestClassifier(),\n",
       "             param_grid={'class_weight': ('balanced', 'balanced_subsample'),\n",
       "                         'criterion': ('gini', 'entropy'),\n",
       "                         'min_samples_leaf': (1, 2, 5),\n",
       "                         'min_samples_split': (2, 3, 5, 10, 50, 100),\n",
       "                         'n_estimators': [50, 75, 100],\n",
       "                         'random_state': [0, 1, 2]},\n",
       "             scoring='accuracy')"
      ]
     },
     "execution_count": 49,
     "metadata": {},
     "output_type": "execute_result"
    }
   ],
   "source": [
    "rf_clf.fit(X_train, y_train)"
   ]
  },
  {
   "cell_type": "code",
   "execution_count": 50,
   "metadata": {},
   "outputs": [
    {
     "data": {
      "text/html": [
       "<div>\n",
       "<style scoped>\n",
       "    .dataframe tbody tr th:only-of-type {\n",
       "        vertical-align: middle;\n",
       "    }\n",
       "\n",
       "    .dataframe tbody tr th {\n",
       "        vertical-align: top;\n",
       "    }\n",
       "\n",
       "    .dataframe thead th {\n",
       "        text-align: right;\n",
       "    }\n",
       "</style>\n",
       "<table border=\"1\" class=\"dataframe\">\n",
       "  <thead>\n",
       "    <tr style=\"text-align: right;\">\n",
       "      <th></th>\n",
       "      <th>param_criterion</th>\n",
       "      <th>param_min_samples_leaf</th>\n",
       "      <th>param_min_samples_split</th>\n",
       "      <th>param_random_state</th>\n",
       "      <th>param_n_estimators</th>\n",
       "      <th>param_class_weight</th>\n",
       "      <th>mean_test_score</th>\n",
       "      <th>std_test_score</th>\n",
       "      <th>rank_test_score</th>\n",
       "    </tr>\n",
       "  </thead>\n",
       "  <tbody>\n",
       "    <tr>\n",
       "      <th>0</th>\n",
       "      <td>gini</td>\n",
       "      <td>1</td>\n",
       "      <td>2</td>\n",
       "      <td>0</td>\n",
       "      <td>50</td>\n",
       "      <td>balanced</td>\n",
       "      <td>0.685556</td>\n",
       "      <td>0.001944</td>\n",
       "      <td>24</td>\n",
       "    </tr>\n",
       "    <tr>\n",
       "      <th>1</th>\n",
       "      <td>gini</td>\n",
       "      <td>1</td>\n",
       "      <td>2</td>\n",
       "      <td>1</td>\n",
       "      <td>50</td>\n",
       "      <td>balanced</td>\n",
       "      <td>0.682348</td>\n",
       "      <td>0.000935</td>\n",
       "      <td>36</td>\n",
       "    </tr>\n",
       "    <tr>\n",
       "      <th>2</th>\n",
       "      <td>gini</td>\n",
       "      <td>1</td>\n",
       "      <td>2</td>\n",
       "      <td>2</td>\n",
       "      <td>50</td>\n",
       "      <td>balanced</td>\n",
       "      <td>0.683542</td>\n",
       "      <td>0.001802</td>\n",
       "      <td>31</td>\n",
       "    </tr>\n",
       "    <tr>\n",
       "      <th>3</th>\n",
       "      <td>gini</td>\n",
       "      <td>1</td>\n",
       "      <td>2</td>\n",
       "      <td>0</td>\n",
       "      <td>75</td>\n",
       "      <td>balanced</td>\n",
       "      <td>0.687197</td>\n",
       "      <td>0.001613</td>\n",
       "      <td>13</td>\n",
       "    </tr>\n",
       "    <tr>\n",
       "      <th>4</th>\n",
       "      <td>gini</td>\n",
       "      <td>1</td>\n",
       "      <td>2</td>\n",
       "      <td>1</td>\n",
       "      <td>75</td>\n",
       "      <td>balanced</td>\n",
       "      <td>0.686600</td>\n",
       "      <td>0.001306</td>\n",
       "      <td>19</td>\n",
       "    </tr>\n",
       "    <tr>\n",
       "      <th>...</th>\n",
       "      <td>...</td>\n",
       "      <td>...</td>\n",
       "      <td>...</td>\n",
       "      <td>...</td>\n",
       "      <td>...</td>\n",
       "      <td>...</td>\n",
       "      <td>...</td>\n",
       "      <td>...</td>\n",
       "      <td>...</td>\n",
       "    </tr>\n",
       "    <tr>\n",
       "      <th>643</th>\n",
       "      <td>entropy</td>\n",
       "      <td>5</td>\n",
       "      <td>100</td>\n",
       "      <td>1</td>\n",
       "      <td>75</td>\n",
       "      <td>balanced_subsample</td>\n",
       "      <td>0.540916</td>\n",
       "      <td>0.004401</td>\n",
       "      <td>644</td>\n",
       "    </tr>\n",
       "    <tr>\n",
       "      <th>644</th>\n",
       "      <td>entropy</td>\n",
       "      <td>5</td>\n",
       "      <td>100</td>\n",
       "      <td>2</td>\n",
       "      <td>75</td>\n",
       "      <td>balanced_subsample</td>\n",
       "      <td>0.544123</td>\n",
       "      <td>0.005413</td>\n",
       "      <td>632</td>\n",
       "    </tr>\n",
       "    <tr>\n",
       "      <th>645</th>\n",
       "      <td>entropy</td>\n",
       "      <td>5</td>\n",
       "      <td>100</td>\n",
       "      <td>0</td>\n",
       "      <td>100</td>\n",
       "      <td>balanced_subsample</td>\n",
       "      <td>0.542756</td>\n",
       "      <td>0.001710</td>\n",
       "      <td>638</td>\n",
       "    </tr>\n",
       "    <tr>\n",
       "      <th>646</th>\n",
       "      <td>entropy</td>\n",
       "      <td>5</td>\n",
       "      <td>100</td>\n",
       "      <td>1</td>\n",
       "      <td>100</td>\n",
       "      <td>balanced_subsample</td>\n",
       "      <td>0.540742</td>\n",
       "      <td>0.003926</td>\n",
       "      <td>645</td>\n",
       "    </tr>\n",
       "    <tr>\n",
       "      <th>647</th>\n",
       "      <td>entropy</td>\n",
       "      <td>5</td>\n",
       "      <td>100</td>\n",
       "      <td>2</td>\n",
       "      <td>100</td>\n",
       "      <td>balanced_subsample</td>\n",
       "      <td>0.543526</td>\n",
       "      <td>0.005210</td>\n",
       "      <td>633</td>\n",
       "    </tr>\n",
       "  </tbody>\n",
       "</table>\n",
       "<p>648 rows × 9 columns</p>\n",
       "</div>"
      ],
      "text/plain": [
       "    param_criterion param_min_samples_leaf param_min_samples_split  \\\n",
       "0              gini                      1                       2   \n",
       "1              gini                      1                       2   \n",
       "2              gini                      1                       2   \n",
       "3              gini                      1                       2   \n",
       "4              gini                      1                       2   \n",
       "..              ...                    ...                     ...   \n",
       "643         entropy                      5                     100   \n",
       "644         entropy                      5                     100   \n",
       "645         entropy                      5                     100   \n",
       "646         entropy                      5                     100   \n",
       "647         entropy                      5                     100   \n",
       "\n",
       "    param_random_state param_n_estimators  param_class_weight  \\\n",
       "0                    0                 50            balanced   \n",
       "1                    1                 50            balanced   \n",
       "2                    2                 50            balanced   \n",
       "3                    0                 75            balanced   \n",
       "4                    1                 75            balanced   \n",
       "..                 ...                ...                 ...   \n",
       "643                  1                 75  balanced_subsample   \n",
       "644                  2                 75  balanced_subsample   \n",
       "645                  0                100  balanced_subsample   \n",
       "646                  1                100  balanced_subsample   \n",
       "647                  2                100  balanced_subsample   \n",
       "\n",
       "     mean_test_score  std_test_score  rank_test_score  \n",
       "0           0.685556        0.001944               24  \n",
       "1           0.682348        0.000935               36  \n",
       "2           0.683542        0.001802               31  \n",
       "3           0.687197        0.001613               13  \n",
       "4           0.686600        0.001306               19  \n",
       "..               ...             ...              ...  \n",
       "643         0.540916        0.004401              644  \n",
       "644         0.544123        0.005413              632  \n",
       "645         0.542756        0.001710              638  \n",
       "646         0.540742        0.003926              645  \n",
       "647         0.543526        0.005210              633  \n",
       "\n",
       "[648 rows x 9 columns]"
      ]
     },
     "execution_count": 50,
     "metadata": {},
     "output_type": "execute_result"
    }
   ],
   "source": [
    "# El dataframe results será utilizado para almacenar los resultaados computados\n",
    "results = rf_clf.cv_results_\n",
    "    \n",
    "df = pd.DataFrame(results)\n",
    "df_result = df[['param_criterion', 'param_min_samples_leaf', 'param_min_samples_split', 'param_random_state', 'param_n_estimators', 'param_class_weight', 'mean_test_score', 'std_test_score', 'rank_test_score']]\n",
    "df_result"
   ]
  },
  {
   "cell_type": "code",
   "execution_count": 51,
   "metadata": {},
   "outputs": [
    {
     "data": {
      "text/html": [
       "<div>\n",
       "<style scoped>\n",
       "    .dataframe tbody tr th:only-of-type {\n",
       "        vertical-align: middle;\n",
       "    }\n",
       "\n",
       "    .dataframe tbody tr th {\n",
       "        vertical-align: top;\n",
       "    }\n",
       "\n",
       "    .dataframe thead th {\n",
       "        text-align: right;\n",
       "    }\n",
       "</style>\n",
       "<table border=\"1\" class=\"dataframe\">\n",
       "  <thead>\n",
       "    <tr style=\"text-align: right;\">\n",
       "      <th></th>\n",
       "      <th>param_criterion</th>\n",
       "      <th>param_min_samples_leaf</th>\n",
       "      <th>param_min_samples_split</th>\n",
       "      <th>param_random_state</th>\n",
       "      <th>param_n_estimators</th>\n",
       "      <th>param_class_weight</th>\n",
       "      <th>mean_test_score</th>\n",
       "      <th>std_test_score</th>\n",
       "      <th>rank_test_score</th>\n",
       "    </tr>\n",
       "  </thead>\n",
       "  <tbody>\n",
       "    <tr>\n",
       "      <th>340</th>\n",
       "      <td>gini</td>\n",
       "      <td>1</td>\n",
       "      <td>3</td>\n",
       "      <td>1</td>\n",
       "      <td>100</td>\n",
       "      <td>balanced_subsample</td>\n",
       "      <td>0.688788</td>\n",
       "      <td>0.001343</td>\n",
       "      <td>1</td>\n",
       "    </tr>\n",
       "  </tbody>\n",
       "</table>\n",
       "</div>"
      ],
      "text/plain": [
       "    param_criterion param_min_samples_leaf param_min_samples_split  \\\n",
       "340            gini                      1                       3   \n",
       "\n",
       "    param_random_state param_n_estimators  param_class_weight  \\\n",
       "340                  1                100  balanced_subsample   \n",
       "\n",
       "     mean_test_score  std_test_score  rank_test_score  \n",
       "340         0.688788        0.001343                1  "
      ]
     },
     "execution_count": 51,
     "metadata": {},
     "output_type": "execute_result"
    }
   ],
   "source": [
    "# Seleccionamos el modelo con mean_test_score mas alto y menor varianza\n",
    "df_bm = df_result[df_result['rank_test_score'] == 1]\n",
    "df_bm"
   ]
  },
  {
   "cell_type": "code",
   "execution_count": 52,
   "metadata": {},
   "outputs": [
    {
     "name": "stdout",
     "output_type": "stream",
     "text": [
      "Mejor Modelo\n",
      " RandomForestClassifier(class_weight='balanced_subsample', min_samples_split=3,\n",
      "                       random_state=1)\n",
      "Mejores Parametros\n",
      " {'class_weight': 'balanced_subsample', 'criterion': 'gini', 'min_samples_leaf': 1, 'min_samples_split': 3, 'n_estimators': 100, 'random_state': 1}\n"
     ]
    }
   ],
   "source": [
    "best_rf_clf = rf_clf.best_estimator_\n",
    "bestpar = rf_clf.best_params_\n",
    "\n",
    "print('Mejor Modelo\\n', best_rf_clf)\n",
    "print('Mejores Parametros\\n', bestpar)"
   ]
  },
  {
   "cell_type": "code",
   "execution_count": 53,
   "metadata": {},
   "outputs": [
    {
     "name": "stdout",
     "output_type": "stream",
     "text": [
      "Best Regression Logistic accuracy:  0.6887883266707447\n"
     ]
    }
   ],
   "source": [
    "print('Best Regression Logistic accuracy: ', rf_clf.best_score_)\n",
    "res_acc_df = res_acc_df.append({'description': 'modelo rf third run', 'clf': rf_clf, 'best_acc': rf_clf.best_score_}, ignore_index=True)"
   ]
  },
  {
   "cell_type": "code",
   "execution_count": 54,
   "metadata": {},
   "outputs": [
    {
     "data": {
      "text/html": [
       "<div>\n",
       "<style scoped>\n",
       "    .dataframe tbody tr th:only-of-type {\n",
       "        vertical-align: middle;\n",
       "    }\n",
       "\n",
       "    .dataframe tbody tr th {\n",
       "        vertical-align: top;\n",
       "    }\n",
       "\n",
       "    .dataframe thead th {\n",
       "        text-align: right;\n",
       "    }\n",
       "</style>\n",
       "<table border=\"1\" class=\"dataframe\">\n",
       "  <thead>\n",
       "    <tr style=\"text-align: right;\">\n",
       "      <th></th>\n",
       "      <th>description</th>\n",
       "      <th>clf</th>\n",
       "      <th>best_acc</th>\n",
       "    </tr>\n",
       "  </thead>\n",
       "  <tbody>\n",
       "    <tr>\n",
       "      <th>0</th>\n",
       "      <td>modelo dt first run</td>\n",
       "      <td>DecisionTreeClassifier(min_samples_leaf=5, min...</td>\n",
       "      <td>0.638683</td>\n",
       "    </tr>\n",
       "    <tr>\n",
       "      <th>1</th>\n",
       "      <td>modelo nv second run</td>\n",
       "      <td>default</td>\n",
       "      <td>0.161623</td>\n",
       "    </tr>\n",
       "    <tr>\n",
       "      <th>2</th>\n",
       "      <td>modelo rf third run</td>\n",
       "      <td>GridSearchCV(cv=3, estimator=RandomForestClass...</td>\n",
       "      <td>0.688788</td>\n",
       "    </tr>\n",
       "  </tbody>\n",
       "</table>\n",
       "</div>"
      ],
      "text/plain": [
       "            description                                                clf  \\\n",
       "0   modelo dt first run  DecisionTreeClassifier(min_samples_leaf=5, min...   \n",
       "1  modelo nv second run                                            default   \n",
       "2   modelo rf third run  GridSearchCV(cv=3, estimator=RandomForestClass...   \n",
       "\n",
       "   best_acc  \n",
       "0  0.638683  \n",
       "1  0.161623  \n",
       "2  0.688788  "
      ]
     },
     "execution_count": 54,
     "metadata": {},
     "output_type": "execute_result"
    }
   ],
   "source": [
    "res_acc_df"
   ]
  },
  {
   "cell_type": "markdown",
   "metadata": {},
   "source": [
    "#### 2.4. Selección del Modelo: **Boosting with xgboost**"
   ]
  },
  {
   "cell_type": "code",
   "execution_count": 56,
   "metadata": {},
   "outputs": [],
   "source": [
    "from xgboost import XGBRegressor\n",
    "import xgboost as xgb"
   ]
  },
  {
   "cell_type": "code",
   "execution_count": 57,
   "metadata": {},
   "outputs": [],
   "source": [
    "# Seteo de Hipeparámetros\n",
    "xg_reg = xgb.XGBRegressor(objective ='reg:squarederror', colsample_bytree = 0.3, learning_rate = 0.1,\n",
    "                          max_depth = 5, alpha = 10, n_estimators = 10)"
   ]
  },
  {
   "cell_type": "code",
   "execution_count": 58,
   "metadata": {},
   "outputs": [
    {
     "data": {
      "text/plain": [
       "XGBRegressor(alpha=10, colsample_bytree=0.3, max_depth=5, n_estimators=10,\n",
       "             objective='reg:squarederror')"
      ]
     },
     "execution_count": 58,
     "metadata": {},
     "output_type": "execute_result"
    }
   ],
   "source": [
    "xg_reg.fit(X_train,y_train)"
   ]
  },
  {
   "cell_type": "code",
   "execution_count": 59,
   "metadata": {},
   "outputs": [],
   "source": [
    "y_train_pred = xg_reg.predict(X_train)"
   ]
  },
  {
   "cell_type": "code",
   "execution_count": 60,
   "metadata": {},
   "outputs": [
    {
     "name": "stdout",
     "output_type": "stream",
     "text": [
      "MSE: 53676.925467\n"
     ]
    }
   ],
   "source": [
    "mse = mean_squared_error(y_train, y_train_pred)\n",
    "print(\"MSE: %f\" % (mse))"
   ]
  },
  {
   "cell_type": "code",
   "execution_count": 61,
   "metadata": {},
   "outputs": [],
   "source": [
    "y_valid_pred = xg_reg.predict(X_valid)"
   ]
  },
  {
   "cell_type": "code",
   "execution_count": 62,
   "metadata": {},
   "outputs": [
    {
     "data": {
      "text/plain": [
       "((26812,), (26812,))"
      ]
     },
     "execution_count": 62,
     "metadata": {},
     "output_type": "execute_result"
    }
   ],
   "source": [
    "y_valid.shape, y_valid_pred.shape"
   ]
  },
  {
   "cell_type": "code",
   "execution_count": 63,
   "metadata": {},
   "outputs": [],
   "source": [
    "pred=[round(value) for value in y_valid_pred]"
   ]
  },
  {
   "cell_type": "code",
   "execution_count": 64,
   "metadata": {},
   "outputs": [],
   "source": [
    "acc_score = accuracy_score(y_valid, pred)"
   ]
  },
  {
   "cell_type": "code",
   "execution_count": 65,
   "metadata": {},
   "outputs": [
    {
     "name": "stdout",
     "output_type": "stream",
     "text": [
      "Boosting accuracy:  0.007981500820528122\n"
     ]
    }
   ],
   "source": [
    "print('Boosting accuracy: ', acc_score)\n",
    "res_acc_df = res_acc_df.append({'description': 'modelo boosting fourth run', 'objective =reg:squarederror, colsample_bytree = 0.3, learning_rate = 0.1, max_depth = 5, alpha = 10, n_estimators = 10': 'default', 'best_acc': acc_score}, ignore_index=True)"
   ]
  },
  {
   "cell_type": "code",
   "execution_count": 66,
   "metadata": {},
   "outputs": [
    {
     "data": {
      "text/html": [
       "<div>\n",
       "<style scoped>\n",
       "    .dataframe tbody tr th:only-of-type {\n",
       "        vertical-align: middle;\n",
       "    }\n",
       "\n",
       "    .dataframe tbody tr th {\n",
       "        vertical-align: top;\n",
       "    }\n",
       "\n",
       "    .dataframe thead th {\n",
       "        text-align: right;\n",
       "    }\n",
       "</style>\n",
       "<table border=\"1\" class=\"dataframe\">\n",
       "  <thead>\n",
       "    <tr style=\"text-align: right;\">\n",
       "      <th></th>\n",
       "      <th>description</th>\n",
       "      <th>clf</th>\n",
       "      <th>best_acc</th>\n",
       "      <th>objective =reg:squarederror, colsample_bytree = 0.3, learning_rate = 0.1, max_depth = 5, alpha = 10, n_estimators = 10</th>\n",
       "    </tr>\n",
       "  </thead>\n",
       "  <tbody>\n",
       "    <tr>\n",
       "      <th>0</th>\n",
       "      <td>modelo dt first run</td>\n",
       "      <td>DecisionTreeClassifier(min_samples_leaf=5, min...</td>\n",
       "      <td>0.638683</td>\n",
       "      <td>NaN</td>\n",
       "    </tr>\n",
       "    <tr>\n",
       "      <th>1</th>\n",
       "      <td>modelo nv second run</td>\n",
       "      <td>default</td>\n",
       "      <td>0.161623</td>\n",
       "      <td>NaN</td>\n",
       "    </tr>\n",
       "    <tr>\n",
       "      <th>2</th>\n",
       "      <td>modelo rf third run</td>\n",
       "      <td>GridSearchCV(cv=3, estimator=RandomForestClass...</td>\n",
       "      <td>0.688788</td>\n",
       "      <td>NaN</td>\n",
       "    </tr>\n",
       "    <tr>\n",
       "      <th>3</th>\n",
       "      <td>modelo boosting fourth run</td>\n",
       "      <td>NaN</td>\n",
       "      <td>0.007982</td>\n",
       "      <td>default</td>\n",
       "    </tr>\n",
       "  </tbody>\n",
       "</table>\n",
       "</div>"
      ],
      "text/plain": [
       "                  description  \\\n",
       "0         modelo dt first run   \n",
       "1        modelo nv second run   \n",
       "2         modelo rf third run   \n",
       "3  modelo boosting fourth run   \n",
       "\n",
       "                                                 clf  best_acc  \\\n",
       "0  DecisionTreeClassifier(min_samples_leaf=5, min...  0.638683   \n",
       "1                                            default  0.161623   \n",
       "2  GridSearchCV(cv=3, estimator=RandomForestClass...  0.688788   \n",
       "3                                                NaN  0.007982   \n",
       "\n",
       "  objective =reg:squarederror, colsample_bytree = 0.3, learning_rate = 0.1, max_depth = 5, alpha = 10, n_estimators = 10  \n",
       "0                                                NaN                                                                      \n",
       "1                                                NaN                                                                      \n",
       "2                                                NaN                                                                      \n",
       "3                                            default                                                                      "
      ]
     },
     "execution_count": 66,
     "metadata": {},
     "output_type": "execute_result"
    }
   ],
   "source": [
    "res_acc_df"
   ]
  },
  {
   "cell_type": "code",
   "execution_count": 67,
   "metadata": {},
   "outputs": [
    {
     "data": {
      "text/plain": [
       "((67029, 81), (28645, 81))"
      ]
     },
     "execution_count": 67,
     "metadata": {},
     "output_type": "execute_result"
    }
   ],
   "source": [
    "X.shape, XX.shape"
   ]
  },
  {
   "cell_type": "markdown",
   "metadata": {},
   "source": [
    "#### 2.4. Selección del Modelo: **Ensemble with DT**"
   ]
  },
  {
   "cell_type": "code",
   "execution_count": 69,
   "metadata": {},
   "outputs": [],
   "source": [
    "from imblearn.ensemble import BalancedBaggingClassifier"
   ]
  },
  {
   "cell_type": "code",
   "execution_count": 70,
   "metadata": {},
   "outputs": [],
   "source": [
    "# Seteo de hipeparámetros\n",
    "bbc = BalancedBaggingClassifier(base_estimator=DT(),\n",
    "                                sampling_strategy='auto',\n",
    "                                replacement=False,\n",
    "                                random_state=0)"
   ]
  },
  {
   "cell_type": "code",
   "execution_count": 71,
   "metadata": {},
   "outputs": [
    {
     "data": {
      "text/plain": [
       "BalancedBaggingClassifier(base_estimator=DecisionTreeClassifier(),\n",
       "                          random_state=0)"
      ]
     },
     "execution_count": 71,
     "metadata": {},
     "output_type": "execute_result"
    }
   ],
   "source": [
    "# Entrenamos el clasificador\n",
    "bbc.fit(X_train, y_train)"
   ]
  },
  {
   "cell_type": "code",
   "execution_count": 72,
   "metadata": {},
   "outputs": [],
   "source": [
    "y_valid_pred = bbc.predict(X_valid)"
   ]
  },
  {
   "cell_type": "code",
   "execution_count": 73,
   "metadata": {},
   "outputs": [
    {
     "data": {
      "text/plain": [
       "((26812,), (26812,))"
      ]
     },
     "execution_count": 73,
     "metadata": {},
     "output_type": "execute_result"
    }
   ],
   "source": [
    "y_valid.shape, y_valid_pred.shape"
   ]
  },
  {
   "cell_type": "code",
   "execution_count": 74,
   "metadata": {},
   "outputs": [],
   "source": [
    "pred=[round(value) for value in y_valid_pred]"
   ]
  },
  {
   "cell_type": "code",
   "execution_count": 75,
   "metadata": {},
   "outputs": [],
   "source": [
    "acc_score = accuracy_score(y_valid, pred)"
   ]
  },
  {
   "cell_type": "code",
   "execution_count": 76,
   "metadata": {},
   "outputs": [
    {
     "data": {
      "text/plain": [
       "0.3421602267641355"
      ]
     },
     "execution_count": 76,
     "metadata": {},
     "output_type": "execute_result"
    }
   ],
   "source": [
    "acc_score "
   ]
  }
 ],
 "metadata": {
  "kernelspec": {
   "display_name": "Python 3",
   "language": "python",
   "name": "python3"
  },
  "language_info": {
   "codemirror_mode": {
    "name": "ipython",
    "version": 3
   },
   "file_extension": ".py",
   "mimetype": "text/x-python",
   "name": "python",
   "nbconvert_exporter": "python",
   "pygments_lexer": "ipython3",
   "version": "3.6.10"
  }
 },
 "nbformat": 4,
 "nbformat_minor": 4
}
