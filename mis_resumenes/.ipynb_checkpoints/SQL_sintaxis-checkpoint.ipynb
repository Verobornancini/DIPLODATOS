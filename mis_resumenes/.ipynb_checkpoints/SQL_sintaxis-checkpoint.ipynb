{
 "cells": [
  {
   "cell_type": "markdown",
   "metadata": {},
   "source": [
    "<span style=\"color:red\"> **SQL: Consultas Generales** </span>\n",
    "* Lenguaje para el sistema de gestión de bases de datos\n",
    "* Nos permite realizar consultas sobre la información almacenada en bases de datos"
   ]
  },
  {
   "cell_type": "markdown",
   "metadata": {},
   "source": [
    "<span style=\"color:red\"> **1) SHOW:** </span> Para listar las bases de datos y tablas que tenemos activas."
   ]
  },
  {
   "cell_type": "code",
   "execution_count": null,
   "metadata": {},
   "outputs": [],
   "source": [
    "SHOW DATABASES;\n",
    "SHOW TABLES;"
   ]
  },
  {
   "cell_type": "markdown",
   "metadata": {},
   "source": [
    "<span style=\"color:red\"> **2) CREATE:** </span> Para crear nuevas tablas y bases de datos."
   ]
  },
  {
   "cell_type": "raw",
   "metadata": {},
   "source": [
    "CREATE DATABASE nueva_base_de_datos;"
   ]
  },
  {
   "cell_type": "code",
   "execution_count": null,
   "metadata": {},
   "outputs": [],
   "source": [
    "CREATE TABLE nueva_tabla(\n",
    "# atributo tipo caracteristicas,\n",
    "edad INT NOTNULL,\n",
    "PRIMARY KEY (atributo_elegido), # ejemplo: suele ser el ID\n",
    "FOREGIN KEY (atributo_de_otra_tabla) REFERENCES otra_tabla (atributo));"
   ]
  },
  {
   "cell_type": "markdown",
   "metadata": {},
   "source": [
    "<span style=\"color:red\"> **3) USE:** </span> Para posicionarnos en una base de datos sobre la cual vamos a trabajar."
   ]
  },
  {
   "cell_type": "code",
   "execution_count": null,
   "metadata": {},
   "outputs": [],
   "source": [
    "USE base_de_datos;"
   ]
  },
  {
   "cell_type": "markdown",
   "metadata": {},
   "source": [
    "<span style=\"color:red\"> **4) DESCRIBE:** </span> Para obtener la información de como está conformada una tabla, nos indica las columnas con su respectivo tipo de dato."
   ]
  },
  {
   "cell_type": "code",
   "execution_count": null,
   "metadata": {},
   "outputs": [],
   "source": [
    "DESCRIBE nombre_tabla;"
   ]
  },
  {
   "cell_type": "markdown",
   "metadata": {},
   "source": [
    "<span style=\"color:red\"> **5) INSERT:** </span> Para insertar nuevas filas, se debe especificar que tabla se usará, la columna y el valor a insertar, siempre siquiendo el mismo orden."
   ]
  },
  {
   "cell_type": "code",
   "execution_count": null,
   "metadata": {},
   "outputs": [],
   "source": [
    "INSER INTO nombre_tabla(edad,nombre,sexo)\n",
    "VALUES (18, Monica, Femenino);"
   ]
  },
  {
   "cell_type": "markdown",
   "metadata": {},
   "source": [
    "<span style=\"color:red\"> **5) SELECT:** </span> Para obtener datos de una tabla."
   ]
  },
  {
   "cell_type": "code",
   "execution_count": null,
   "metadata": {},
   "outputs": [],
   "source": [
    "SELECT * FROM nombre_tabla; # selecciona todo\n",
    "\n",
    "SELECT nombre_columna FROM nombre_tabla;"
   ]
  },
  {
   "cell_type": "markdown",
   "metadata": {},
   "source": [
    "<span style=\"color:red\"> **6) SOURCE:** </span> Para ejecutar toda las sentencias SQL presentes en el script."
   ]
  },
  {
   "cell_type": "code",
   "execution_count": null,
   "metadata": {},
   "outputs": [],
   "source": [
    "SOURCE script.sql; # ruta del archivo sql"
   ]
  },
  {
   "cell_type": "markdown",
   "metadata": {},
   "source": [
    "<span style=\"color:red\"> **7) AS:** </span> Para setear un alias."
   ]
  },
  {
   "cell_type": "code",
   "execution_count": null,
   "metadata": {},
   "outputs": [],
   "source": [
    "SELECT nombre_columna AVG(nombre_columna) AS promedio FROM nombre_tabla"
   ]
  },
  {
   "cell_type": "markdown",
   "metadata": {},
   "source": [
    "<span style=\"color:purple\"> **SQL: Filtrado de bases de datos** </span>"
   ]
  },
  {
   "cell_type": "markdown",
   "metadata": {},
   "source": [
    "<span style=\"color:purple\"> **1) WHERE:** </span> Para seleccionar datos que cumplen con una condición. Se utiliza junto a otros operadores."
   ]
  },
  {
   "cell_type": "code",
   "execution_count": null,
   "metadata": {},
   "outputs": [],
   "source": [
    "SELECT * FROM nombre_tabla WHERE nombre_columna=valor;"
   ]
  },
  {
   "cell_type": "code",
   "execution_count": null,
   "metadata": {},
   "outputs": [],
   "source": [
    "AND-OR\n",
    "BETWEEN\n",
    "LIKE # Filtra por palabras parecidas (%)\n",
    "IN"
   ]
  },
  {
   "cell_type": "markdown",
   "metadata": {},
   "source": [
    "<span style=\"color:purple\"> **2) ORDER BY:** </span> Determina en que orden se obtienen los registros. Por defecto ordena de manera ascendente. Si queremos cambiarlo hay que usar la palabra DESC."
   ]
  },
  {
   "cell_type": "code",
   "execution_count": null,
   "metadata": {},
   "outputs": [],
   "source": [
    "SELECT * FROM nombre_tabla ORDER BY nombre_columna;"
   ]
  },
  {
   "cell_type": "markdown",
   "metadata": {},
   "source": [
    "<span style=\"color:purple\"> **3) LIMIT:** </span> Especifica un límite en la cantidad de registros que devolverá la consulta."
   ]
  },
  {
   "cell_type": "code",
   "execution_count": null,
   "metadata": {},
   "outputs": [],
   "source": [
    "SELECT * FROM nombre_tabla ORDER BY nombre_columna LIMIT 10; \n",
    "# 10 =cantidad de filas que mostrará"
   ]
  },
  {
   "cell_type": "markdown",
   "metadata": {},
   "source": [
    "<span style=\"color:purple\"> **4) OFSET:** </span> Especifica desde que fila empieza."
   ]
  },
  {
   "cell_type": "code",
   "execution_count": null,
   "metadata": {},
   "outputs": [],
   "source": [
    "SELECT * FROM nombre_tabla ORDER BY nombre_columna LIMIT 10 OFSET 30;"
   ]
  },
  {
   "cell_type": "markdown",
   "metadata": {},
   "source": [
    "<span style=\"color:purple\"> **5) DISTINCT:** </span> Para que me devuelva las opciones de datos que tengo."
   ]
  },
  {
   "cell_type": "code",
   "execution_count": null,
   "metadata": {},
   "outputs": [],
   "source": [
    "SELECT DISTINCT nombre_columna FROM nombre_tabla;"
   ]
  },
  {
   "cell_type": "markdown",
   "metadata": {},
   "source": [
    "<span style=\"color:purple\"> **6) GROUP BY:** </span> Para agrupar el resultado de las consultas según el dato de interés."
   ]
  },
  {
   "cell_type": "code",
   "execution_count": null,
   "metadata": {},
   "outputs": [],
   "source": [
    "SELECT * FROM nombre_tabla GROUP BY nombre_columna;"
   ]
  },
  {
   "cell_type": "markdown",
   "metadata": {},
   "source": [
    "<span style=\"color:purple\"> **7) HAVING:** </span> Para filtrar por columnas."
   ]
  },
  {
   "cell_type": "code",
   "execution_count": null,
   "metadata": {},
   "outputs": [],
   "source": [
    "SELECT nombre_columna \n",
    "AVG(nombre_columna) \n",
    "FROM tabla_1\n",
    "LEFT JOIN tabla_2\n",
    "ON tabla_1.columna = tabla_2.columna\n",
    "GROUP BY nombre_columna\n",
    "HAVING promedio>=7"
   ]
  },
  {
   "cell_type": "markdown",
   "metadata": {},
   "source": [
    "<span style=\"color:green\"> **SQL: Operaciones simples** </span>"
   ]
  },
  {
   "cell_type": "markdown",
   "metadata": {},
   "source": [
    "<span style=\"color:green\"> **1) COUNT:** </span> Cuenta la cantidad de filas distintas que hay en la columna."
   ]
  },
  {
   "cell_type": "code",
   "execution_count": null,
   "metadata": {},
   "outputs": [],
   "source": [
    "SELECT COUNT (nombre_columna) FROM nombre_tabla;"
   ]
  },
  {
   "cell_type": "markdown",
   "metadata": {},
   "source": [
    "<span style=\"color:green\"> **2) SUM:** </span> Para que me devuelva las opciones de datos que tengo."
   ]
  },
  {
   "cell_type": "code",
   "execution_count": null,
   "metadata": {},
   "outputs": [],
   "source": [
    "SELECT SUM (nombre_columna) as alias_elegido FROM nombre_tabla;"
   ]
  },
  {
   "cell_type": "markdown",
   "metadata": {},
   "source": [
    "<span style=\"color:green\"> **3) AVG:** </span> Devuelve el valor promedio."
   ]
  },
  {
   "cell_type": "code",
   "execution_count": null,
   "metadata": {},
   "outputs": [],
   "source": [
    "SELECT AVG (nombre_columna) as alias_elegido FROM nombre_tabla;"
   ]
  },
  {
   "cell_type": "markdown",
   "metadata": {},
   "source": [
    "<span style=\"color:blue\"> **SQL: Alterar la estructura de una tabla** </span>"
   ]
  },
  {
   "cell_type": "markdown",
   "metadata": {},
   "source": [
    "<span style=\"color:blue\"> **1) RENAME:**</span> Modifica el nombre de una tabla."
   ]
  },
  {
   "cell_type": "code",
   "execution_count": null,
   "metadata": {},
   "outputs": [],
   "source": [
    "ALTER TABLE nombre_tabla\n",
    "RENAME TO nuevo_nombre_tabla;"
   ]
  },
  {
   "cell_type": "markdown",
   "metadata": {},
   "source": [
    "<span style=\"color:blue\"> **2) ADD & DROP:**</span> Agrega o elimina una columna."
   ]
  },
  {
   "cell_type": "code",
   "execution_count": null,
   "metadata": {},
   "outputs": [],
   "source": [
    "ALTER TABLE nombre_tabla\n",
    "\n",
    "ADD COLUMN nombre_columna tido_de_dato;\n",
    "DROP COLUMN nombre_columna\n",
    "ADD PRIMARY KEY (nombre_columna)"
   ]
  },
  {
   "cell_type": "markdown",
   "metadata": {},
   "source": [
    "<span style=\"color:blue\"> **3) MODIFY:** </span>Modifica una columna."
   ]
  },
  {
   "cell_type": "code",
   "execution_count": null,
   "metadata": {},
   "outputs": [],
   "source": [
    "ALTER TABLE nombre_tabla\n",
    "MODIFY COLUMN nombre_columna tipo_de_dato;"
   ]
  },
  {
   "cell_type": "markdown",
   "metadata": {},
   "source": [
    "<span style=\"color:BLUE\"> **4) UPDATE:** </span> Modifica un dato existente en la tabla. Si no indico el **WHERE** modifico toda la tabla."
   ]
  },
  {
   "cell_type": "code",
   "execution_count": null,
   "metadata": {},
   "outputs": [],
   "source": [
    "UPDATE nombre_tabla\n",
    "SET columna1=valor,\n",
    "    columna2=valor,\n",
    "WHERE condición;"
   ]
  },
  {
   "cell_type": "markdown",
   "metadata": {},
   "source": [
    "<span style=\"color:blue\"> **5) DROP:**</span> Eliminar una tabla o una base de datos."
   ]
  },
  {
   "cell_type": "code",
   "execution_count": null,
   "metadata": {},
   "outputs": [],
   "source": [
    "DROP TABLE nombre_tabla;\n",
    "\n",
    "DROP DATABASE nombre_base_de_datos;"
   ]
  },
  {
   "cell_type": "markdown",
   "metadata": {},
   "source": [
    "<span style=\"color:BLUE\"> **6) DELETE:** </span> Elimina todas las filas que cumplen con la condición. Si no indico el **WHERE** borro toda la tabla."
   ]
  },
  {
   "cell_type": "code",
   "execution_count": null,
   "metadata": {},
   "outputs": [],
   "source": [
    "DELETE FROM nombre_tabla WHERE nombre_columna=valor;"
   ]
  },
  {
   "cell_type": "markdown",
   "metadata": {},
   "source": [
    "<span style=\"color:orange\"> **SQL: Relaciones entre tablas** </span>"
   ]
  },
  {
   "cell_type": "markdown",
   "metadata": {},
   "source": [
    "<span style=\"color:orange\"> **1) FOREIGN KEY:**</span> Setea la clave foránea que utilizaemos para referenciar una tabla con otra."
   ]
  },
  {
   "cell_type": "code",
   "execution_count": null,
   "metadata": {},
   "outputs": [],
   "source": [
    "FOREIGN KEY (nombre_columna) \n",
    "REFERENCES nombre_tabla (columna_aLaQue_referencia);"
   ]
  },
  {
   "cell_type": "markdown",
   "metadata": {},
   "source": [
    "<span style=\"color:orange\"> **2) ADD FOREIGN KEY:**</span> Para agregar una FK a una tabla ya existente que no posea una FK."
   ]
  },
  {
   "cell_type": "code",
   "execution_count": null,
   "metadata": {},
   "outputs": [],
   "source": [
    "ALTER TABLE nombre_tabla \n",
    "ADD FOREIGN KEY (nombre_clave) \n",
    "REFERENCES nombre_tabla (nombre_columna);"
   ]
  },
  {
   "cell_type": "markdown",
   "metadata": {},
   "source": [
    "<span style=\"color:orange\"> **3) JOIN:** </span>Unir tablas, luego le podemos agregar filtros con **WHERE** a las consultas."
   ]
  },
  {
   "cell_type": "code",
   "execution_count": null,
   "metadata": {},
   "outputs": [],
   "source": [
    "SELECT * FROM tabla_1 \n",
    "JOIN tabla_2 \n",
    "ON tabla_2.columna = tabla_1.columna;"
   ]
  },
  {
   "cell_type": "markdown",
   "metadata": {},
   "source": [
    "* **INNER JOIN:** Devuelve las filas de la tabla A, que tengan una correspondencia con la tabla B\n",
    "* **LEFT JOIN:** Une toda la tabla izquierda (A) a todas las filas de la tabla derecha (B)\n",
    "* **RIGHT JOIN:** Une toda la tabla derecha (B) a todas las filas de la tabla izquierda (A)"
   ]
  },
  {
   "attachments": {
    "dfb4a308-4b06-4e92-bee1-737dea99c306.png": {
     "image/png": "[encoded data removed]"
    }
   },
   "cell_type": "markdown",
   "metadata": {},
   "source": [
    "![sql-joins-inner-outer-lelft-right.png](attachment:dfb4a308-4b06-4e92-bee1-737dea99c306.png)"
   ]
  },
  {
   "cell_type": "markdown",
   "metadata": {},
   "source": [
    "<span style=\"color:orange\"> **4) HAVING:** </span>Unir tablas, luego le podemos agregar filtros con **WHERE** a las consultas."
   ]
  },
  {
   "cell_type": "markdown",
   "metadata": {},
   "source": [
    "<span style=\"color:deeppink\"> **SQL: Vistas** </span>"
   ]
  },
  {
   "cell_type": "markdown",
   "metadata": {},
   "source": [
    "<span style=\"color:deeppink\"> **1) CREATE VIEW:** </span>Para crear una nueva vista que será tartada como una tabla. Una vista es el resultado de una consulta al que podemos darle un nombre y tratarlo como si fue un objeto de la base de datos. Nos permite crear abstracciones sobre el modelo existente. Podemos usarlas para encapsular consultas complejas."
   ]
  },
  {
   "cell_type": "markdown",
   "metadata": {},
   "source": [
    "* EJEMPLO: Utilizando el siguiente esquema de tablas en una base de datos, podemos combinar canciones con su género, álbum y tipo de\n",
    "archivo en una única vista."
   ]
  },
  {
   "attachments": {
    "cf6347f1-8689-4863-a8cc-9e0fdb92a011.jpg": {
     "image/jpeg": "[encoded data removed]"
    }
   },
   "cell_type": "markdown",
   "metadata": {},
   "source": [
    "![Imagen1.jpg](attachment:cf6347f1-8689-4863-a8cc-9e0fdb92a011.jpg)"
   ]
  },
  {
   "cell_type": "code",
   "execution_count": null,
   "metadata": {},
   "outputs": [],
   "source": [
    "CREATE VIEW v_tracks AS\n",
    "SELECT trackid, tracks.name,\n",
    "albums.Title AS album,\n",
    "media_types.Name AS media,\n",
    "genres.Name AS genre\n",
    "FROM tracks\n",
    "INNER JOIN albums ON Albums.AlbumId = tracks.AlbumId\n",
    "INNER JOIN media_types ON media_types.MediaTypeId = tracks.MediaTypeId\n",
    "INNER JOIN genres ON genres.GenreId = tracks.GenreId;"
   ]
  },
  {
   "attachments": {
    "c067c404-2a40-4ce9-8eb0-ee836b975e18.jpg": {
     "image/jpeg": "[encoded data removed]"
    }
   },
   "cell_type": "markdown",
   "metadata": {},
   "source": [
    "![Imagen2.jpg](attachment:c067c404-2a40-4ce9-8eb0-ee836b975e18.jpg)"
   ]
  }
 ],
 "metadata": {
  "kernelspec": {
   "display_name": "Python 3",
   "language": "python",
   "name": "python3"
  },
  "language_info": {
   "codemirror_mode": {
    "name": "ipython",
    "version": 3
   },
   "file_extension": ".py",
   "mimetype": "text/x-python",
   "name": "python",
   "nbconvert_exporter": "python",
   "pygments_lexer": "ipython3",
   "version": "3.6.10"
  }
 },
 "nbformat": 4,
 "nbformat_minor": 4
}
